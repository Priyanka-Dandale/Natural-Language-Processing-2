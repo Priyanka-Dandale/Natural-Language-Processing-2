{
  "nbformat": 4,
  "nbformat_minor": 0,
  "metadata": {
    "colab": {
      "name": "M1-NLP-Working_with_Text_Data.ipynb",
      "provenance": [],
      "collapsed_sections": [
        "Kjl8NVw04hMA",
        "dylQ3AosEtC4"
      ],
      "toc_visible": true
    },
    "kernelspec": {
      "name": "python3",
      "display_name": "Python 3"
    },
    "language_info": {
      "name": "python"
    }
  },
  "cells": [
    {
      "cell_type": "markdown",
      "metadata": {
        "id": "Kjl8NVw04hMA"
      },
      "source": [
        "# Intoduction - The zen of python"
      ]
    },
    {
      "cell_type": "code",
      "metadata": {
        "colab": {
          "base_uri": "https://localhost:8080/"
        },
        "id": "n0q7cOYrw21U",
        "outputId": "a1bfcdb5-d08f-4d06-a415-7c808ed89057"
      },
      "source": [
        "import this"
      ],
      "execution_count": 1,
      "outputs": [
        {
          "output_type": "stream",
          "text": [
            "The Zen of Python, by Tim Peters\n",
            "\n",
            "Beautiful is better than ugly.\n",
            "Explicit is better than implicit.\n",
            "Simple is better than complex.\n",
            "Complex is better than complicated.\n",
            "Flat is better than nested.\n",
            "Sparse is better than dense.\n",
            "Readability counts.\n",
            "Special cases aren't special enough to break the rules.\n",
            "Although practicality beats purity.\n",
            "Errors should never pass silently.\n",
            "Unless explicitly silenced.\n",
            "In the face of ambiguity, refuse the temptation to guess.\n",
            "There should be one-- and preferably only one --obvious way to do it.\n",
            "Although that way may not be obvious at first unless you're Dutch.\n",
            "Now is better than never.\n",
            "Although never is often better than *right* now.\n",
            "If the implementation is hard to explain, it's a bad idea.\n",
            "If the implementation is easy to explain, it may be a good idea.\n",
            "Namespaces are one honking great idea -- let's do more of those!\n"
          ],
          "name": "stdout"
        }
      ]
    },
    {
      "cell_type": "markdown",
      "metadata": {
        "id": "dylQ3AosEtC4"
      },
      "source": [
        "# String Literals"
      ]
    },
    {
      "cell_type": "markdown",
      "metadata": {
        "id": "fVeW9tTWFFoy"
      },
      "source": [
        "```\n",
        "stringliteral   ::=  [stringprefix](shortstring | longstring)\n",
        "stringprefix    ::=  \"r\" | \"u\" | \"R\" | \"U\" | \"f\" | \"F\"\n",
        "                     | \"fr\" | \"Fr\" | \"fR\" | \"FR\" | \"rf\" | \"rF\" | \"Rf\" | \"RF\"\n",
        "shortstring     ::=  \"'\" shortstringitem* \"'\" | '\"' shortstringitem* '\"'\n",
        "longstring      ::=  \"'''\" longstringitem* \"'''\" | '\"\"\"' longstringitem* '\"\"\"'\n",
        "shortstringitem ::=  shortstringchar | stringescapeseq\n",
        "longstringitem  ::=  longstringchar | stringescapeseq\n",
        "shortstringchar ::=  <any source character except \"\\\" or newline or the quote>\n",
        "longstringchar  ::=  <any source character except \"\\\">\n",
        "stringescapeseq ::=  \"\\\" <any source character>\n",
        "```"
      ]
    },
    {
      "cell_type": "markdown",
      "metadata": {
        "id": "s4YsB7V595CZ"
      },
      "source": [
        "The string literals section Github repository link https://github.com/Priyanka-Dandale/Natural-Language-Processing-2/blob/main/M1_NLP_String_Literals_Python.ipynb. "
      ]
    },
    {
      "cell_type": "markdown",
      "metadata": {
        "id": "1Xi_szXJFRrE"
      },
      "source": [
        "# String Types"
      ]
    },
    {
      "cell_type": "code",
      "metadata": {
        "colab": {
          "base_uri": "https://localhost:8080/",
          "height": 197
        },
        "id": "SAbRb7Y-w7-S",
        "outputId": "0041b7f4-269b-400e-8801-0df60b9816e3"
      },
      "source": [
        "# strings are immutable hence assignment throws error\n",
        "string = 'Python'\n",
        "string[0] = 'X'"
      ],
      "execution_count": 3,
      "outputs": [
        {
          "output_type": "error",
          "ename": "TypeError",
          "evalue": "ignored",
          "traceback": [
            "\u001b[0;31m---------------------------------------------------------------------------\u001b[0m",
            "\u001b[0;31mTypeError\u001b[0m                                 Traceback (most recent call last)",
            "\u001b[0;32m<ipython-input-3-768feeeb2e04>\u001b[0m in \u001b[0;36m<module>\u001b[0;34m()\u001b[0m\n\u001b[1;32m      1\u001b[0m \u001b[0;31m# strings are immutable hence assignment throws error\u001b[0m\u001b[0;34m\u001b[0m\u001b[0;34m\u001b[0m\u001b[0;34m\u001b[0m\u001b[0m\n\u001b[1;32m      2\u001b[0m \u001b[0mstring\u001b[0m \u001b[0;34m=\u001b[0m \u001b[0;34m'Python'\u001b[0m\u001b[0;34m\u001b[0m\u001b[0;34m\u001b[0m\u001b[0m\n\u001b[0;32m----> 3\u001b[0;31m \u001b[0mstring\u001b[0m\u001b[0;34m[\u001b[0m\u001b[0;36m0\u001b[0m\u001b[0;34m]\u001b[0m \u001b[0;34m=\u001b[0m \u001b[0;34m'X'\u001b[0m\u001b[0;34m\u001b[0m\u001b[0;34m\u001b[0m\u001b[0m\n\u001b[0m",
            "\u001b[0;31mTypeError\u001b[0m: 'str' object does not support item assignment"
          ]
        }
      ]
    },
    {
      "cell_type": "code",
      "metadata": {
        "colab": {
          "base_uri": "https://localhost:8080/"
        },
        "id": "ScH8tQ-b4mv8",
        "outputId": "80268f0b-cead-4b35-f97b-9d2f28d03053"
      },
      "source": [
        "my_string = \"This is a String.\"    # storing a string\n",
        "\n",
        "print('ID:', id(my_string))       # shows the object identifier (address)\n",
        "print('Type:', type(my_string))   # shows the object type\n",
        "print('Value:', my_string)        # shows the object value"
      ],
      "execution_count": 4,
      "outputs": [
        {
          "output_type": "stream",
          "text": [
            "ID: 140302314716336\n",
            "Type: <class 'str'>\n",
            "Value: This is a String.\n"
          ],
          "name": "stdout"
        }
      ]
    },
    {
      "cell_type": "code",
      "metadata": {
        "colab": {
          "base_uri": "https://localhost:8080/"
        },
        "id": "TQhxsL9tTeKd",
        "outputId": "b2e4285b-4a58-475b-8b5e-a0145bc354d7"
      },
      "source": [
        "# simple string - concatenation using +\n",
        "simple_string = 'Hello!' + \" I'm a simple Python string.\"\n",
        "print(simple_string)"
      ],
      "execution_count": 5,
      "outputs": [
        {
          "output_type": "stream",
          "text": [
            "Hello! I'm a simple Python string.\n"
          ],
          "name": "stdout"
        }
      ]
    },
    {
      "cell_type": "code",
      "metadata": {
        "colab": {
          "base_uri": "https://localhost:8080/"
        },
        "id": "H6fEq1l2Ud_J",
        "outputId": "12bcaba1-1998-4767-a495-352419db04bc"
      },
      "source": [
        "# multi-line string, note the \\n (newline) escape character automatically created\n",
        "multi_line_string = \"\"\"Hello I'm\n",
        "a multi-line\n",
        "string!\"\"\"\n",
        "\n",
        "print(multi_line_string)"
      ],
      "execution_count": 6,
      "outputs": [
        {
          "output_type": "stream",
          "text": [
            "Hello I'm\n",
            "a multi-line\n",
            "string!\n"
          ],
          "name": "stdout"
        }
      ]
    },
    {
      "cell_type": "code",
      "metadata": {
        "colab": {
          "base_uri": "https://localhost:8080/",
          "height": 35
        },
        "id": "lzwS3RBHVRgw",
        "outputId": "97108c3e-385c-47f7-fccf-5f357bed19ef"
      },
      "source": [
        "multi_line_string"
      ],
      "execution_count": 7,
      "outputs": [
        {
          "output_type": "execute_result",
          "data": {
            "application/vnd.google.colaboratory.intrinsic+json": {
              "type": "string"
            },
            "text/plain": [
              "\"Hello I'm\\na multi-line\\nstring!\""
            ]
          },
          "metadata": {
            "tags": []
          },
          "execution_count": 7
        }
      ]
    },
    {
      "cell_type": "code",
      "metadata": {
        "colab": {
          "base_uri": "https://localhost:8080/"
        },
        "id": "XymdsJZhWHhT",
        "outputId": "7933af13-9bd5-4748-a529-aae6d64dc779"
      },
      "source": [
        "# Normal string with escape sequences leading to a wrong file path!\n",
        "\n",
        "escaped_string = \"C:\\the_folder\\new_dir\\file.txt\"\n",
        "\n",
        "print(escaped_string)                 # will cause errors if we try to open a file here"
      ],
      "execution_count": 8,
      "outputs": [
        {
          "output_type": "stream",
          "text": [
            "C:\the_folder\n",
            "ew_dir\file.txt\n"
          ],
          "name": "stdout"
        }
      ]
    },
    {
      "cell_type": "code",
      "metadata": {
        "id": "XCp6GqhLYHXs",
        "colab": {
          "base_uri": "https://localhost:8080/"
        },
        "outputId": "a90e92d7-6550-4b42-aab1-900a3cced647"
      },
      "source": [
        "# raw string keeping the backslashes in its normal form\n",
        "raw_string = r'C:\\the_folder\\new_dir\\file.txt'\n",
        "print(raw_string)"
      ],
      "execution_count": 9,
      "outputs": [
        {
          "output_type": "stream",
          "text": [
            "C:\\the_folder\\new_dir\\file.txt\n"
          ],
          "name": "stdout"
        }
      ]
    },
    {
      "cell_type": "code",
      "metadata": {
        "colab": {
          "base_uri": "https://localhost:8080/"
        },
        "id": "tmS8gTBdbbUA",
        "outputId": "6c38569b-eab2-4959-c178-0eb22ebf3f04"
      },
      "source": [
        "# unicode string literals\n",
        "string_with_unicode = 'H\\u00e8llo!'\n",
        "print(string_with_unicode)"
      ],
      "execution_count": 10,
      "outputs": [
        {
          "output_type": "stream",
          "text": [
            "Hèllo!\n"
          ],
          "name": "stdout"
        }
      ]
    },
    {
      "cell_type": "code",
      "metadata": {
        "colab": {
          "base_uri": "https://localhost:8080/"
        },
        "id": "NnGYFpvkbus6",
        "outputId": "e790780d-195c-4a24-cf76-4575b8f96b4c"
      },
      "source": [
        "more_unicode = 'I love Pizza 🍕!  Shall we book a cab 🚕 to get pizza?'\n",
        "print(more_unicode)"
      ],
      "execution_count": 11,
      "outputs": [
        {
          "output_type": "stream",
          "text": [
            "I love Pizza 🍕!  Shall we book a cab 🚕 to get pizza?\n"
          ],
          "name": "stdout"
        }
      ]
    },
    {
      "cell_type": "code",
      "metadata": {
        "colab": {
          "base_uri": "https://localhost:8080/"
        },
        "id": "5fAcBNwictsx",
        "outputId": "81c0b4bd-2334-46c1-bfaf-05e09a5d2a1d"
      },
      "source": [
        "print(string_with_unicode + '\\n' + more_unicode)"
      ],
      "execution_count": 12,
      "outputs": [
        {
          "output_type": "stream",
          "text": [
            "Hèllo!\n",
            "I love Pizza 🍕!  Shall we book a cab 🚕 to get pizza?\n"
          ],
          "name": "stdout"
        }
      ]
    },
    {
      "cell_type": "code",
      "metadata": {
        "colab": {
          "base_uri": "https://localhost:8080/",
          "height": 35
        },
        "id": "uV-VSB_Rc0xo",
        "outputId": "030a21b7-fa73-4b2a-aa04-2f68b4f934fc"
      },
      "source": [
        "' '.join([string_with_unicode, more_unicode])"
      ],
      "execution_count": 13,
      "outputs": [
        {
          "output_type": "execute_result",
          "data": {
            "application/vnd.google.colaboratory.intrinsic+json": {
              "type": "string"
            },
            "text/plain": [
              "'Hèllo! I love Pizza 🍕!  Shall we book a cab 🚕 to get pizza?'"
            ]
          },
          "metadata": {
            "tags": []
          },
          "execution_count": 13
        }
      ]
    },
    {
      "cell_type": "code",
      "metadata": {
        "colab": {
          "base_uri": "https://localhost:8080/",
          "height": 35
        },
        "id": "6lm8ehfWdAg4",
        "outputId": "11bc0a23-3998-469a-eb67-3fa36649d22c"
      },
      "source": [
        "more_unicode[::-1]  # reverses the string"
      ],
      "execution_count": 14,
      "outputs": [
        {
          "output_type": "execute_result",
          "data": {
            "application/vnd.google.colaboratory.intrinsic+json": {
              "type": "string"
            },
            "text/plain": [
              "'?azzip teg ot 🚕 bac a koob ew llahS  !🍕 azziP evol I'"
            ]
          },
          "metadata": {
            "tags": []
          },
          "execution_count": 14
        }
      ]
    },
    {
      "cell_type": "code",
      "metadata": {
        "colab": {
          "base_uri": "https://localhost:8080/"
        },
        "id": "DWTv0mpBrHGQ",
        "outputId": "f844dfe6-a1cb-43d5-d486-07160212e680"
      },
      "source": [
        "print(\"\\U0001F606\")"
      ],
      "execution_count": 15,
      "outputs": [
        {
          "output_type": "stream",
          "text": [
            "😆\n"
          ],
          "name": "stdout"
        }
      ]
    },
    {
      "cell_type": "markdown",
      "metadata": {
        "id": "v6sYOkjesaYN"
      },
      "source": [
        "https://unicode.org/emoji/charts/full-emoji-list.html"
      ]
    },
    {
      "cell_type": "markdown",
      "metadata": {
        "id": "QUOxcWqEdvfq"
      },
      "source": [
        "# String Operations"
      ]
    },
    {
      "cell_type": "markdown",
      "metadata": {
        "id": "MvfVfcKed3Yu"
      },
      "source": [
        "## String Concatenation"
      ]
    },
    {
      "cell_type": "code",
      "metadata": {
        "colab": {
          "base_uri": "https://localhost:8080/",
          "height": 35
        },
        "id": "0UvmY6ildBD8",
        "outputId": "d25f2cb3-6699-4327-9262-71e8f448906f"
      },
      "source": [
        "'Hello 😊' + ' and welcome ' + 'to Python 🐍!'"
      ],
      "execution_count": 16,
      "outputs": [
        {
          "output_type": "execute_result",
          "data": {
            "application/vnd.google.colaboratory.intrinsic+json": {
              "type": "string"
            },
            "text/plain": [
              "'Hello 😊 and welcome to Python 🐍!'"
            ]
          },
          "metadata": {
            "tags": []
          },
          "execution_count": 16
        }
      ]
    },
    {
      "cell_type": "code",
      "metadata": {
        "id": "ZVn4ftIweAOc",
        "colab": {
          "base_uri": "https://localhost:8080/",
          "height": 35
        },
        "outputId": "2b771768-8471-475f-c6e1-27a8f51549c2"
      },
      "source": [
        "'Hello 😊' ' and welcome ' 'to Python 🐍!'"
      ],
      "execution_count": 17,
      "outputs": [
        {
          "output_type": "execute_result",
          "data": {
            "application/vnd.google.colaboratory.intrinsic+json": {
              "type": "string"
            },
            "text/plain": [
              "'Hello 😊 and welcome to Python 🐍!'"
            ]
          },
          "metadata": {
            "tags": []
          },
          "execution_count": 17
        }
      ]
    },
    {
      "cell_type": "markdown",
      "metadata": {
        "id": "Pb2vsLcYSXmT"
      },
      "source": [
        "## Concatenation of string literal and variable"
      ]
    },
    {
      "cell_type": "code",
      "metadata": {
        "colab": {
          "base_uri": "https://localhost:8080/",
          "height": 35
        },
        "id": "QVEpAEvtsp2Z",
        "outputId": "270f42ac-4eb9-4cbe-e456-d02f82016c24"
      },
      "source": [
        "string_literal = 'Python 💻!'\n",
        "'Hello 😊 ' + string_literal"
      ],
      "execution_count": 18,
      "outputs": [
        {
          "output_type": "execute_result",
          "data": {
            "application/vnd.google.colaboratory.intrinsic+json": {
              "type": "string"
            },
            "text/plain": [
              "'Hello 😊 Python 💻!'"
            ]
          },
          "metadata": {
            "tags": []
          },
          "execution_count": 18
        }
      ]
    },
    {
      "cell_type": "code",
      "metadata": {
        "colab": {
          "base_uri": "https://localhost:8080/",
          "height": 129
        },
        "id": "He-qGXA0S4UM",
        "outputId": "4c27fdcd-8702-4fd7-e5d6-e3ff36d6f655"
      },
      "source": [
        "'Hello 😊 ' string_literal"
      ],
      "execution_count": 19,
      "outputs": [
        {
          "output_type": "error",
          "ename": "SyntaxError",
          "evalue": "ignored",
          "traceback": [
            "\u001b[0;36m  File \u001b[0;32m\"<ipython-input-19-7a2b15d5e036>\"\u001b[0;36m, line \u001b[0;32m1\u001b[0m\n\u001b[0;31m    'Hello 😊 ' string_literal\u001b[0m\n\u001b[0m                            ^\u001b[0m\n\u001b[0;31mSyntaxError\u001b[0m\u001b[0;31m:\u001b[0m invalid syntax\n"
          ]
        }
      ]
    },
    {
      "cell_type": "markdown",
      "metadata": {
        "id": "xlD6Prdintbx"
      },
      "source": [
        "## Some more ways to concatenate"
      ]
    },
    {
      "cell_type": "code",
      "metadata": {
        "colab": {
          "base_uri": "https://localhost:8080/",
          "height": 35
        },
        "id": "a1EXpqW5nelt",
        "outputId": "20cf2a01-52e4-416e-b824-9e404d80cda4"
      },
      "source": [
        "string_literal2 = '--🐍Python🐍--'\n",
        "string_literal2 * 8"
      ],
      "execution_count": 20,
      "outputs": [
        {
          "output_type": "execute_result",
          "data": {
            "application/vnd.google.colaboratory.intrinsic+json": {
              "type": "string"
            },
            "text/plain": [
              "'--🐍Python🐍----🐍Python🐍----🐍Python🐍----🐍Python🐍----🐍Python🐍----🐍Python🐍----🐍Python🐍----🐍Python🐍--'"
            ]
          },
          "metadata": {
            "tags": []
          },
          "execution_count": 20
        }
      ]
    },
    {
      "cell_type": "code",
      "metadata": {
        "colab": {
          "base_uri": "https://localhost:8080/",
          "height": 35
        },
        "id": "VNHAED2VnrXT",
        "outputId": "4ae8bdd4-872f-4fba-8143-a36932d4b05e"
      },
      "source": [
        "string_literal + string_literal2"
      ],
      "execution_count": 21,
      "outputs": [
        {
          "output_type": "execute_result",
          "data": {
            "application/vnd.google.colaboratory.intrinsic+json": {
              "type": "string"
            },
            "text/plain": [
              "'Python 💻!--🐍Python🐍--'"
            ]
          },
          "metadata": {
            "tags": []
          },
          "execution_count": 21
        }
      ]
    },
    {
      "cell_type": "code",
      "metadata": {
        "colab": {
          "base_uri": "https://localhost:8080/",
          "height": 35
        },
        "id": "Lu2hd3wDn5i4",
        "outputId": "e6c8dba9-5c08-40fe-efbd-2774237c7129"
      },
      "source": [
        "(string_literal + '****' + string_literal2 + '   end  ')*2"
      ],
      "execution_count": 22,
      "outputs": [
        {
          "output_type": "execute_result",
          "data": {
            "application/vnd.google.colaboratory.intrinsic+json": {
              "type": "string"
            },
            "text/plain": [
              "'Python 💻!****--🐍Python🐍--   end  Python 💻!****--🐍Python🐍--   end  '"
            ]
          },
          "metadata": {
            "tags": []
          },
          "execution_count": 22
        }
      ]
    },
    {
      "cell_type": "markdown",
      "metadata": {
        "id": "jjZLK0Svo9DA"
      },
      "source": [
        "## Concatenating several strings together"
      ]
    },
    {
      "cell_type": "code",
      "metadata": {
        "colab": {
          "base_uri": "https://localhost:8080/",
          "height": 35
        },
        "id": "lmoxZymYoAui",
        "outputId": "4209deff-cf68-4c7f-c6a4-115528b4075e"
      },
      "source": [
        "string_literal3 = (  'This '\n",
        "                     'is another way '\n",
        "                     'to concatenate '\n",
        "                     'several strings!')\n",
        "string_literal3"
      ],
      "execution_count": 23,
      "outputs": [
        {
          "output_type": "execute_result",
          "data": {
            "application/vnd.google.colaboratory.intrinsic+json": {
              "type": "string"
            },
            "text/plain": [
              "'This is another way to concatenate several strings!'"
            ]
          },
          "metadata": {
            "tags": []
          },
          "execution_count": 23
        }
      ]
    },
    {
      "cell_type": "markdown",
      "metadata": {
        "id": "N-LYCV73qKBb"
      },
      "source": [
        "## Finding substrings in a string"
      ]
    },
    {
      "cell_type": "code",
      "metadata": {
        "colab": {
          "base_uri": "https://localhost:8080/"
        },
        "id": "OtYgcNL_pFG2",
        "outputId": "411663ea-fbc1-4686-aba9-8393a96da508"
      },
      "source": [
        "'concatenate' in string_literal3 "
      ],
      "execution_count": 24,
      "outputs": [
        {
          "output_type": "execute_result",
          "data": {
            "text/plain": [
              "True"
            ]
          },
          "metadata": {
            "tags": []
          },
          "execution_count": 24
        }
      ]
    },
    {
      "cell_type": "code",
      "metadata": {
        "colab": {
          "base_uri": "https://localhost:8080/"
        },
        "id": "LUF8BFP_qcxd",
        "outputId": "3575cf0d-ad00-4e74-b60d-0cc310ac77eb"
      },
      "source": [
        "'Priyanka' in string_literal3 "
      ],
      "execution_count": 25,
      "outputs": [
        {
          "output_type": "execute_result",
          "data": {
            "text/plain": [
              "False"
            ]
          },
          "metadata": {
            "tags": []
          },
          "execution_count": 25
        }
      ]
    },
    {
      "cell_type": "code",
      "metadata": {
        "colab": {
          "base_uri": "https://localhost:8080/"
        },
        "id": "c6viZE3Hq0u0",
        "outputId": "c1d58fc0-f4ea-4e3f-def8-1ccbcc3d6cfc"
      },
      "source": [
        "'concatenate several strings!' in string_literal3"
      ],
      "execution_count": 26,
      "outputs": [
        {
          "output_type": "execute_result",
          "data": {
            "text/plain": [
              "True"
            ]
          },
          "metadata": {
            "tags": []
          },
          "execution_count": 26
        }
      ]
    },
    {
      "cell_type": "markdown",
      "metadata": {
        "id": "40WRfY8sqXI2"
      },
      "source": [
        "## Computing total length of the string"
      ]
    },
    {
      "cell_type": "code",
      "metadata": {
        "colab": {
          "base_uri": "https://localhost:8080/"
        },
        "id": "gLbYaEk5qSsR",
        "outputId": "9817b014-0c51-4b40-d858-6fe917363a6d"
      },
      "source": [
        "len(string_literal3)"
      ],
      "execution_count": 27,
      "outputs": [
        {
          "output_type": "execute_result",
          "data": {
            "text/plain": [
              "51"
            ]
          },
          "metadata": {
            "tags": []
          },
          "execution_count": 27
        }
      ]
    },
    {
      "cell_type": "code",
      "metadata": {
        "colab": {
          "base_uri": "https://localhost:8080/"
        },
        "id": "p9m0xqfEreeT",
        "outputId": "184ddfdc-ddb1-4264-8766-2a30633c544f"
      },
      "source": [
        "len('Python')"
      ],
      "execution_count": 28,
      "outputs": [
        {
          "output_type": "execute_result",
          "data": {
            "text/plain": [
              "6"
            ]
          },
          "metadata": {
            "tags": []
          },
          "execution_count": 28
        }
      ]
    },
    {
      "cell_type": "markdown",
      "metadata": {
        "id": "MyW4ij0Zscr7"
      },
      "source": [
        "## String indexing and slicing"
      ]
    },
    {
      "cell_type": "code",
      "metadata": {
        "colab": {
          "base_uri": "https://localhost:8080/"
        },
        "id": "CAeoqXezrjz5",
        "outputId": "1a3fe829-1414-4d25-b9fe-6590fd490fb5"
      },
      "source": [
        "# creating a string\n",
        "string = 'PYTHON'\n",
        "print(string)\n",
        "print(type(string))"
      ],
      "execution_count": 29,
      "outputs": [
        {
          "output_type": "stream",
          "text": [
            "PYTHON\n",
            "<class 'str'>\n"
          ],
          "name": "stdout"
        }
      ]
    },
    {
      "cell_type": "code",
      "metadata": {
        "colab": {
          "base_uri": "https://localhost:8080/"
        },
        "id": "crQFEnXvsQ90",
        "outputId": "9c7331e0-9cf7-43f5-a073-ea53bcc1f190"
      },
      "source": [
        "# depicting string indexes\n",
        "for index, character in enumerate(string):\n",
        "    print('Character ->', character, 'has index->', index)"
      ],
      "execution_count": 30,
      "outputs": [
        {
          "output_type": "stream",
          "text": [
            "Character -> P has index-> 0\n",
            "Character -> Y has index-> 1\n",
            "Character -> T has index-> 2\n",
            "Character -> H has index-> 3\n",
            "Character -> O has index-> 4\n",
            "Character -> N has index-> 5\n"
          ],
          "name": "stdout"
        }
      ]
    },
    {
      "cell_type": "code",
      "metadata": {
        "colab": {
          "base_uri": "https://localhost:8080/"
        },
        "id": "OIe0n0b7snQW",
        "outputId": "672f2325-b2da-4a34-eb47-e565f01c3408"
      },
      "source": [
        "string[0], string[1], string[2], string[3], string[4], string[5]"
      ],
      "execution_count": 31,
      "outputs": [
        {
          "output_type": "execute_result",
          "data": {
            "text/plain": [
              "('P', 'Y', 'T', 'H', 'O', 'N')"
            ]
          },
          "metadata": {
            "tags": []
          },
          "execution_count": 31
        }
      ]
    },
    {
      "cell_type": "code",
      "metadata": {
        "colab": {
          "base_uri": "https://localhost:8080/"
        },
        "id": "FdUvDsOQsrSo",
        "outputId": "f21f96dc-e4c1-4cc9-e5ac-0682a8a7fc84"
      },
      "source": [
        "string[-1], string[-2], string[-3], string[-4], string[-5], string[-6]"
      ],
      "execution_count": 32,
      "outputs": [
        {
          "output_type": "execute_result",
          "data": {
            "text/plain": [
              "('N', 'O', 'H', 'T', 'Y', 'P')"
            ]
          },
          "metadata": {
            "tags": []
          },
          "execution_count": 32
        }
      ]
    },
    {
      "cell_type": "code",
      "metadata": {
        "colab": {
          "base_uri": "https://localhost:8080/",
          "height": 35
        },
        "id": "tzg0fihAs5fD",
        "outputId": "1c5355c3-4ee1-418a-d3d9-49550adf2526"
      },
      "source": [
        "string[:]"
      ],
      "execution_count": 33,
      "outputs": [
        {
          "output_type": "execute_result",
          "data": {
            "application/vnd.google.colaboratory.intrinsic+json": {
              "type": "string"
            },
            "text/plain": [
              "'PYTHON'"
            ]
          },
          "metadata": {
            "tags": []
          },
          "execution_count": 33
        }
      ]
    },
    {
      "cell_type": "code",
      "metadata": {
        "colab": {
          "base_uri": "https://localhost:8080/",
          "height": 35
        },
        "id": "pLFn6LoLtrmD",
        "outputId": "ea41d215-25cc-4e2f-81dd-97ec7970df30"
      },
      "source": [
        "string[1:]"
      ],
      "execution_count": 34,
      "outputs": [
        {
          "output_type": "execute_result",
          "data": {
            "application/vnd.google.colaboratory.intrinsic+json": {
              "type": "string"
            },
            "text/plain": [
              "'YTHON'"
            ]
          },
          "metadata": {
            "tags": []
          },
          "execution_count": 34
        }
      ]
    },
    {
      "cell_type": "code",
      "metadata": {
        "colab": {
          "base_uri": "https://localhost:8080/",
          "height": 35
        },
        "id": "YJatvOkHts48",
        "outputId": "6d0b685c-20f9-4c13-fa28-ffe7b47a2576"
      },
      "source": [
        "string[:-2]"
      ],
      "execution_count": 35,
      "outputs": [
        {
          "output_type": "execute_result",
          "data": {
            "application/vnd.google.colaboratory.intrinsic+json": {
              "type": "string"
            },
            "text/plain": [
              "'PYTH'"
            ]
          },
          "metadata": {
            "tags": []
          },
          "execution_count": 35
        }
      ]
    },
    {
      "cell_type": "code",
      "metadata": {
        "colab": {
          "base_uri": "https://localhost:8080/",
          "height": 35
        },
        "id": "yKju3FXguJKb",
        "outputId": "4ff13d35-ed04-4df7-d5ff-12c8be95af41"
      },
      "source": [
        "string[:1] + string[2:]"
      ],
      "execution_count": 36,
      "outputs": [
        {
          "output_type": "execute_result",
          "data": {
            "application/vnd.google.colaboratory.intrinsic+json": {
              "type": "string"
            },
            "text/plain": [
              "'PTHON'"
            ]
          },
          "metadata": {
            "tags": []
          },
          "execution_count": 36
        }
      ]
    },
    {
      "cell_type": "code",
      "metadata": {
        "colab": {
          "base_uri": "https://localhost:8080/",
          "height": 35
        },
        "id": "Yq-Ay-hTun9e",
        "outputId": "6a75d5ef-de2f-4f5a-d8c8-41cc43991169"
      },
      "source": [
        "string[:2] + string[-2:]"
      ],
      "execution_count": 37,
      "outputs": [
        {
          "output_type": "execute_result",
          "data": {
            "application/vnd.google.colaboratory.intrinsic+json": {
              "type": "string"
            },
            "text/plain": [
              "'PYON'"
            ]
          },
          "metadata": {
            "tags": []
          },
          "execution_count": 37
        }
      ]
    },
    {
      "cell_type": "code",
      "metadata": {
        "colab": {
          "base_uri": "https://localhost:8080/",
          "height": 35
        },
        "id": "lmWInL6uuTRI",
        "outputId": "080d2e2d-b502-47b1-a177-54cf40759fb8"
      },
      "source": [
        "string[:3] + string[-3:]"
      ],
      "execution_count": 38,
      "outputs": [
        {
          "output_type": "execute_result",
          "data": {
            "application/vnd.google.colaboratory.intrinsic+json": {
              "type": "string"
            },
            "text/plain": [
              "'PYTHON'"
            ]
          },
          "metadata": {
            "tags": []
          },
          "execution_count": 38
        }
      ]
    },
    {
      "cell_type": "markdown",
      "metadata": {
        "id": "HwzYa3gwv1nt"
      },
      "source": [
        "## String slicing with offsets"
      ]
    },
    {
      "cell_type": "code",
      "metadata": {
        "colab": {
          "base_uri": "https://localhost:8080/",
          "height": 35
        },
        "id": "V8FQcgpfuhS4",
        "outputId": "93dacfa1-0ef7-45c3-8671-fcdcdd907946"
      },
      "source": [
        "string[::1]  # no offset"
      ],
      "execution_count": 39,
      "outputs": [
        {
          "output_type": "execute_result",
          "data": {
            "application/vnd.google.colaboratory.intrinsic+json": {
              "type": "string"
            },
            "text/plain": [
              "'PYTHON'"
            ]
          },
          "metadata": {
            "tags": []
          },
          "execution_count": 39
        }
      ]
    },
    {
      "cell_type": "code",
      "metadata": {
        "colab": {
          "base_uri": "https://localhost:8080/",
          "height": 35
        },
        "id": "ETacbV6qv66F",
        "outputId": "8b7ace0f-571c-4404-fa85-d5de58639806"
      },
      "source": [
        "string[::2]  # print every 2nd character in string"
      ],
      "execution_count": 40,
      "outputs": [
        {
          "output_type": "execute_result",
          "data": {
            "application/vnd.google.colaboratory.intrinsic+json": {
              "type": "string"
            },
            "text/plain": [
              "'PTO'"
            ]
          },
          "metadata": {
            "tags": []
          },
          "execution_count": 40
        }
      ]
    },
    {
      "cell_type": "code",
      "metadata": {
        "colab": {
          "base_uri": "https://localhost:8080/",
          "height": 35
        },
        "id": "oaMv4ldHy_Yd",
        "outputId": "8ee2ec43-1149-464f-f846-f5e7e0dd6e30"
      },
      "source": [
        "string[::3]  # print every 3rd character in string"
      ],
      "execution_count": 41,
      "outputs": [
        {
          "output_type": "execute_result",
          "data": {
            "application/vnd.google.colaboratory.intrinsic+json": {
              "type": "string"
            },
            "text/plain": [
              "'PH'"
            ]
          },
          "metadata": {
            "tags": []
          },
          "execution_count": 41
        }
      ]
    },
    {
      "cell_type": "code",
      "metadata": {
        "colab": {
          "base_uri": "https://localhost:8080/"
        },
        "id": "BtJYG4DZv-Wu",
        "outputId": "1a60dd5e-bd71-48ea-a6f9-490a76e101f5"
      },
      "source": [
        "print('Original String id:', id(string))\n",
        "# creates a new string\n",
        "string1 = 'X' + string[1:]\n",
        "print(string1)\n",
        "print('New String id:', id(string1))"
      ],
      "execution_count": 42,
      "outputs": [
        {
          "output_type": "stream",
          "text": [
            "Original String id: 140302916953200\n",
            "XYTHON\n",
            "New String id: 140302314343920\n"
          ],
          "name": "stdout"
        }
      ]
    },
    {
      "cell_type": "markdown",
      "metadata": {
        "id": "TPIH3D0T1Io3"
      },
      "source": [
        "## String Case conversions"
      ]
    },
    {
      "cell_type": "code",
      "metadata": {
        "id": "s0EhrePBySXC"
      },
      "source": [
        "s = 'python is easy'"
      ],
      "execution_count": 43,
      "outputs": []
    },
    {
      "cell_type": "code",
      "metadata": {
        "colab": {
          "base_uri": "https://localhost:8080/",
          "height": 35
        },
        "id": "gk-AUhpG1N6_",
        "outputId": "851a0af5-fe42-4a1c-d0e0-fd18126ac39b"
      },
      "source": [
        "s.capitalize()"
      ],
      "execution_count": 44,
      "outputs": [
        {
          "output_type": "execute_result",
          "data": {
            "application/vnd.google.colaboratory.intrinsic+json": {
              "type": "string"
            },
            "text/plain": [
              "'Python is easy'"
            ]
          },
          "metadata": {
            "tags": []
          },
          "execution_count": 44
        }
      ]
    },
    {
      "cell_type": "code",
      "metadata": {
        "colab": {
          "base_uri": "https://localhost:8080/",
          "height": 35
        },
        "id": "LVsAd_Y-1Pr4",
        "outputId": "a73248c2-160b-4435-80f8-b319cefdd8b6"
      },
      "source": [
        "s.upper()"
      ],
      "execution_count": 45,
      "outputs": [
        {
          "output_type": "execute_result",
          "data": {
            "application/vnd.google.colaboratory.intrinsic+json": {
              "type": "string"
            },
            "text/plain": [
              "'PYTHON IS EASY'"
            ]
          },
          "metadata": {
            "tags": []
          },
          "execution_count": 45
        }
      ]
    },
    {
      "cell_type": "code",
      "metadata": {
        "colab": {
          "base_uri": "https://localhost:8080/",
          "height": 35
        },
        "id": "4LOPkQIY1Rbd",
        "outputId": "dc0fa957-8cc0-4d05-f6c7-ef68c6af1264"
      },
      "source": [
        "s.title()"
      ],
      "execution_count": 46,
      "outputs": [
        {
          "output_type": "execute_result",
          "data": {
            "application/vnd.google.colaboratory.intrinsic+json": {
              "type": "string"
            },
            "text/plain": [
              "'Python Is Easy'"
            ]
          },
          "metadata": {
            "tags": []
          },
          "execution_count": 46
        }
      ]
    },
    {
      "cell_type": "code",
      "metadata": {
        "colab": {
          "base_uri": "https://localhost:8080/",
          "height": 35
        },
        "id": "MC02xUaK1TF0",
        "outputId": "521f5305-b19b-43fe-d089-58622c91de62"
      },
      "source": [
        "s.replace('python', 'NLP')"
      ],
      "execution_count": 47,
      "outputs": [
        {
          "output_type": "execute_result",
          "data": {
            "application/vnd.google.colaboratory.intrinsic+json": {
              "type": "string"
            },
            "text/plain": [
              "'NLP is easy'"
            ]
          },
          "metadata": {
            "tags": []
          },
          "execution_count": 47
        }
      ]
    },
    {
      "cell_type": "markdown",
      "metadata": {
        "id": "K99Wqwup2WuM"
      },
      "source": [
        "## Useful Checks"
      ]
    },
    {
      "cell_type": "code",
      "metadata": {
        "colab": {
          "base_uri": "https://localhost:8080/"
        },
        "id": "h7GRk0Bg2Bfm",
        "outputId": "00230386-7a93-4ae3-f370-db8e9983cdff"
      },
      "source": [
        "'12345'.isdecimal()"
      ],
      "execution_count": 48,
      "outputs": [
        {
          "output_type": "execute_result",
          "data": {
            "text/plain": [
              "True"
            ]
          },
          "metadata": {
            "tags": []
          },
          "execution_count": 48
        }
      ]
    },
    {
      "cell_type": "code",
      "metadata": {
        "colab": {
          "base_uri": "https://localhost:8080/"
        },
        "id": "2alemsnz2bg-",
        "outputId": "1117d487-9843-4b1c-b787-9db27f738953"
      },
      "source": [
        "'Positive11'.isdecimal()"
      ],
      "execution_count": 49,
      "outputs": [
        {
          "output_type": "execute_result",
          "data": {
            "text/plain": [
              "False"
            ]
          },
          "metadata": {
            "tags": []
          },
          "execution_count": 49
        }
      ]
    },
    {
      "cell_type": "code",
      "metadata": {
        "colab": {
          "base_uri": "https://localhost:8080/"
        },
        "id": "s4NU99jq2hFo",
        "outputId": "41e3aa21-7db2-4441-c193-36ca0ef0cf89"
      },
      "source": [
        "'python'.isalpha()"
      ],
      "execution_count": 50,
      "outputs": [
        {
          "output_type": "execute_result",
          "data": {
            "text/plain": [
              "True"
            ]
          },
          "metadata": {
            "tags": []
          },
          "execution_count": 50
        }
      ]
    },
    {
      "cell_type": "code",
      "metadata": {
        "colab": {
          "base_uri": "https://localhost:8080/"
        },
        "id": "GsmA4U2Q2kFO",
        "outputId": "7b5e4734-a7be-4eb6-ccee-0a81df57f697"
      },
      "source": [
        "'number1'.isalpha()"
      ],
      "execution_count": 51,
      "outputs": [
        {
          "output_type": "execute_result",
          "data": {
            "text/plain": [
              "False"
            ]
          },
          "metadata": {
            "tags": []
          },
          "execution_count": 51
        }
      ]
    },
    {
      "cell_type": "code",
      "metadata": {
        "colab": {
          "base_uri": "https://localhost:8080/"
        },
        "id": "UIxRfRSc2mAy",
        "outputId": "9c9531a8-cfd4-4af0-d728-d0d13ab3ab93"
      },
      "source": [
        "'total'.isalnum()"
      ],
      "execution_count": 52,
      "outputs": [
        {
          "output_type": "execute_result",
          "data": {
            "text/plain": [
              "True"
            ]
          },
          "metadata": {
            "tags": []
          },
          "execution_count": 52
        }
      ]
    },
    {
      "cell_type": "code",
      "metadata": {
        "colab": {
          "base_uri": "https://localhost:8080/"
        },
        "id": "G8CYJWi82sP4",
        "outputId": "92fd1a3f-8564-4055-b960-1531dee8da44"
      },
      "source": [
        "'abc123'.isalnum()"
      ],
      "execution_count": 53,
      "outputs": [
        {
          "output_type": "execute_result",
          "data": {
            "text/plain": [
              "True"
            ]
          },
          "metadata": {
            "tags": []
          },
          "execution_count": 53
        }
      ]
    },
    {
      "cell_type": "code",
      "metadata": {
        "colab": {
          "base_uri": "https://localhost:8080/"
        },
        "id": "FwKcbsvS2t77",
        "outputId": "aa64ddda-a1a8-470d-d456-42b2dd920cb9"
      },
      "source": [
        "'1+1'.isalnum()"
      ],
      "execution_count": 54,
      "outputs": [
        {
          "output_type": "execute_result",
          "data": {
            "text/plain": [
              "False"
            ]
          },
          "metadata": {
            "tags": []
          },
          "execution_count": 54
        }
      ]
    },
    {
      "cell_type": "markdown",
      "metadata": {
        "id": "-lTXyvTU5W6q"
      },
      "source": [
        "## String splitting"
      ]
    },
    {
      "cell_type": "code",
      "metadata": {
        "colab": {
          "base_uri": "https://localhost:8080/"
        },
        "id": "8n9WATQT2wLL",
        "outputId": "de078b43-ec20-4787-905e-e8948022a1d4"
      },
      "source": [
        "s = 'I,am,a,comma,separated,string.'\n",
        "s.split(',')"
      ],
      "execution_count": 55,
      "outputs": [
        {
          "output_type": "execute_result",
          "data": {
            "text/plain": [
              "['I', 'am', 'a', 'comma', 'separated', 'string.']"
            ]
          },
          "metadata": {
            "tags": []
          },
          "execution_count": 55
        }
      ]
    },
    {
      "cell_type": "code",
      "metadata": {
        "colab": {
          "base_uri": "https://localhost:8080/"
        },
        "id": "dIrn5Gnn5aiT",
        "outputId": "f73ed17b-0025-43ce-a0c9-f9898672d147"
      },
      "source": [
        "string1 = s.split(',')\n",
        "print(string1)"
      ],
      "execution_count": 56,
      "outputs": [
        {
          "output_type": "stream",
          "text": [
            "['I', 'am', 'a', 'comma', 'separated', 'string.']\n"
          ],
          "name": "stdout"
        }
      ]
    },
    {
      "cell_type": "markdown",
      "metadata": {
        "id": "RFcapYth6YMD"
      },
      "source": [
        "## String joining"
      ]
    },
    {
      "cell_type": "code",
      "metadata": {
        "colab": {
          "base_uri": "https://localhost:8080/",
          "height": 35
        },
        "id": "hCt2UToa58jD",
        "outputId": "16dd3b60-7006-4fa2-ab2a-cd4c2ec10b38"
      },
      "source": [
        "' '.join(string1)"
      ],
      "execution_count": 57,
      "outputs": [
        {
          "output_type": "execute_result",
          "data": {
            "application/vnd.google.colaboratory.intrinsic+json": {
              "type": "string"
            },
            "text/plain": [
              "'I am a comma separated string.'"
            ]
          },
          "metadata": {
            "tags": []
          },
          "execution_count": 57
        }
      ]
    },
    {
      "cell_type": "code",
      "metadata": {
        "colab": {
          "base_uri": "https://localhost:8080/"
        },
        "id": "KcE65vXx7GPX",
        "outputId": "2430cd9b-3a32-4a27-a976-25b6050e3c94"
      },
      "source": [
        "sentences = 'Python is easy. NLP is also great.'\n",
        "sentences.split('.')"
      ],
      "execution_count": 58,
      "outputs": [
        {
          "output_type": "execute_result",
          "data": {
            "text/plain": [
              "['Python is easy', ' NLP is also great', '']"
            ]
          },
          "metadata": {
            "tags": []
          },
          "execution_count": 58
        }
      ]
    },
    {
      "cell_type": "code",
      "metadata": {
        "colab": {
          "base_uri": "https://localhost:8080/"
        },
        "id": "tSu9jaYf7IqH",
        "outputId": "1407a870-0686-41c6-e72a-f35e0fe4f0a8"
      },
      "source": [
        "print('\\n'.join(sentences.split('.')))"
      ],
      "execution_count": 59,
      "outputs": [
        {
          "output_type": "stream",
          "text": [
            "Python is easy\n",
            " NLP is also great\n",
            "\n"
          ],
          "name": "stdout"
        }
      ]
    },
    {
      "cell_type": "code",
      "metadata": {
        "colab": {
          "base_uri": "https://localhost:8080/"
        },
        "id": "xl5TWLDd7LQN",
        "outputId": "1f3b3578-4f06-447b-854d-9301ed15e84c"
      },
      "source": [
        "print('\\n'.join([sentence.strip() for sentence in sentences.split('.') if sentence]))"
      ],
      "execution_count": 60,
      "outputs": [
        {
          "output_type": "stream",
          "text": [
            "Python is easy\n",
            "NLP is also great\n"
          ],
          "name": "stdout"
        }
      ]
    },
    {
      "cell_type": "markdown",
      "metadata": {
        "id": "dgdhtfxM6lFX"
      },
      "source": [
        "## Stripping whitespaces"
      ]
    },
    {
      "cell_type": "code",
      "metadata": {
        "colab": {
          "base_uri": "https://localhost:8080/",
          "height": 35
        },
        "id": "xRVXnsUf6AX0",
        "outputId": "e9dcebb5-378c-469c-d8b9-fc72c72247cc"
      },
      "source": [
        "# stripping whitespace characters\n",
        "s = '   I am surrounded by spaces.    '\n",
        "s"
      ],
      "execution_count": 61,
      "outputs": [
        {
          "output_type": "execute_result",
          "data": {
            "application/vnd.google.colaboratory.intrinsic+json": {
              "type": "string"
            },
            "text/plain": [
              "'   I am surrounded by spaces.    '"
            ]
          },
          "metadata": {
            "tags": []
          },
          "execution_count": 61
        }
      ]
    },
    {
      "cell_type": "code",
      "metadata": {
        "colab": {
          "base_uri": "https://localhost:8080/",
          "height": 35
        },
        "id": "oji7Rhuk6o5T",
        "outputId": "dead0229-47ab-441c-ba8f-1e570029a63b"
      },
      "source": [
        "s.strip()"
      ],
      "execution_count": 62,
      "outputs": [
        {
          "output_type": "execute_result",
          "data": {
            "application/vnd.google.colaboratory.intrinsic+json": {
              "type": "string"
            },
            "text/plain": [
              "'I am surrounded by spaces.'"
            ]
          },
          "metadata": {
            "tags": []
          },
          "execution_count": 62
        }
      ]
    },
    {
      "cell_type": "markdown",
      "metadata": {
        "id": "IG-EA4V67yb1"
      },
      "source": [
        "# String Formatting"
      ]
    },
    {
      "cell_type": "code",
      "metadata": {
        "colab": {
          "base_uri": "https://localhost:8080/",
          "height": 35
        },
        "id": "PwQoCXuM6sFn",
        "outputId": "6b4b9cc0-263f-48c4-8278-d3e82f2bdd14"
      },
      "source": [
        "'Hello %s' %('Python!')"
      ],
      "execution_count": 63,
      "outputs": [
        {
          "output_type": "execute_result",
          "data": {
            "application/vnd.google.colaboratory.intrinsic+json": {
              "type": "string"
            },
            "text/plain": [
              "'Hello Python!'"
            ]
          },
          "metadata": {
            "tags": []
          },
          "execution_count": 63
        }
      ]
    },
    {
      "cell_type": "code",
      "metadata": {
        "colab": {
          "base_uri": "https://localhost:8080/",
          "height": 35
        },
        "id": "EhfFI68o8MR7",
        "outputId": "0fc6a7e4-a1b1-4f04-d58f-7d93afd845f3"
      },
      "source": [
        "'Hello %s %s' %('World!', 'How are you?')"
      ],
      "execution_count": 64,
      "outputs": [
        {
          "output_type": "execute_result",
          "data": {
            "application/vnd.google.colaboratory.intrinsic+json": {
              "type": "string"
            },
            "text/plain": [
              "'Hello World! How are you?'"
            ]
          },
          "metadata": {
            "tags": []
          },
          "execution_count": 64
        }
      ]
    },
    {
      "cell_type": "code",
      "metadata": {
        "colab": {
          "base_uri": "https://localhost:8080/",
          "height": 35
        },
        "id": "Y11U0dzQ8OF8",
        "outputId": "688d825c-f9e6-43aa-c68b-e593df5f24ee"
      },
      "source": [
        "'We have %d %s containing %.2f gallons of %s' %(2, 'bottles', 2.5, 'milk')"
      ],
      "execution_count": 65,
      "outputs": [
        {
          "output_type": "execute_result",
          "data": {
            "application/vnd.google.colaboratory.intrinsic+json": {
              "type": "string"
            },
            "text/plain": [
              "'We have 2 bottles containing 2.50 gallons of milk'"
            ]
          },
          "metadata": {
            "tags": []
          },
          "execution_count": 65
        }
      ]
    },
    {
      "cell_type": "code",
      "metadata": {
        "colab": {
          "base_uri": "https://localhost:8080/",
          "height": 35
        },
        "id": "Ybj2CC8f8SfR",
        "outputId": "d5fb113f-9bdd-4469-d12a-c5617e874a06"
      },
      "source": [
        "'We have %d %s containing %.2f gallons of %s' %(5.21, 'jugs', 10.86763, 'juice')"
      ],
      "execution_count": 66,
      "outputs": [
        {
          "output_type": "execute_result",
          "data": {
            "application/vnd.google.colaboratory.intrinsic+json": {
              "type": "string"
            },
            "text/plain": [
              "'We have 5 jugs containing 10.87 gallons of juice'"
            ]
          },
          "metadata": {
            "tags": []
          },
          "execution_count": 66
        }
      ]
    },
    {
      "cell_type": "code",
      "metadata": {
        "colab": {
          "base_uri": "https://localhost:8080/",
          "height": 35
        },
        "id": "m2I-XQYa8S2w",
        "outputId": "c9445dd3-8585-494d-a245-05b913d4f359"
      },
      "source": [
        "'Hello {} {}, it is a great {} to meet you at {}'.format('Mr.', 'Jones', 'pleasure', 5)"
      ],
      "execution_count": 67,
      "outputs": [
        {
          "output_type": "execute_result",
          "data": {
            "application/vnd.google.colaboratory.intrinsic+json": {
              "type": "string"
            },
            "text/plain": [
              "'Hello Mr. Jones, it is a great pleasure to meet you at 5'"
            ]
          },
          "metadata": {
            "tags": []
          },
          "execution_count": 67
        }
      ]
    },
    {
      "cell_type": "code",
      "metadata": {
        "colab": {
          "base_uri": "https://localhost:8080/",
          "height": 35
        },
        "id": "U46h5iND-qku",
        "outputId": "6a6604bb-3f6c-4038-c686-c10f9986d4df"
      },
      "source": [
        "'Hello {} {}, it is a great {} to meet you at {} o\\' clock'.format('Sir', 'Arthur', 'honor', 9)"
      ],
      "execution_count": 68,
      "outputs": [
        {
          "output_type": "execute_result",
          "data": {
            "application/vnd.google.colaboratory.intrinsic+json": {
              "type": "string"
            },
            "text/plain": [
              "\"Hello Sir Arthur, it is a great honor to meet you at 9 o' clock\""
            ]
          },
          "metadata": {
            "tags": []
          },
          "execution_count": 68
        }
      ]
    },
    {
      "cell_type": "code",
      "metadata": {
        "colab": {
          "base_uri": "https://localhost:8080/",
          "height": 35
        },
        "id": "Q6Uq7DIO-s_C",
        "outputId": "32ef1cdd-4a94-4a9e-ddea-46a709496fc4"
      },
      "source": [
        "'I have a {food_item} and a {drink_item} with me'.format(drink_item='soda', food_item='sandwich')"
      ],
      "execution_count": 69,
      "outputs": [
        {
          "output_type": "execute_result",
          "data": {
            "application/vnd.google.colaboratory.intrinsic+json": {
              "type": "string"
            },
            "text/plain": [
              "'I have a sandwich and a soda with me'"
            ]
          },
          "metadata": {
            "tags": []
          },
          "execution_count": 69
        }
      ]
    },
    {
      "cell_type": "code",
      "metadata": {
        "colab": {
          "base_uri": "https://localhost:8080/",
          "height": 35
        },
        "id": "1eSLoEDV_BFW",
        "outputId": "cc73c3b9-edd6-45d9-ae45-251c1e8a9f42"
      },
      "source": [
        "'The {animal} has the following attributes: {attributes}'.format(animal='dog', attributes=['lazy', 'loyal'])"
      ],
      "execution_count": 70,
      "outputs": [
        {
          "output_type": "execute_result",
          "data": {
            "application/vnd.google.colaboratory.intrinsic+json": {
              "type": "string"
            },
            "text/plain": [
              "\"The dog has the following attributes: ['lazy', 'loyal']\""
            ]
          },
          "metadata": {
            "tags": []
          },
          "execution_count": 70
        }
      ]
    },
    {
      "cell_type": "markdown",
      "metadata": {
        "id": "DeiU6vPT_VnT"
      },
      "source": [
        "# Regular Expressions"
      ]
    },
    {
      "cell_type": "code",
      "metadata": {
        "id": "Jo_YAeyP_EGa"
      },
      "source": [
        "s1 = 'Python is an excellent language'\n",
        "s2 = 'I love the Python language. I also use Python to build applications at work!'"
      ],
      "execution_count": 71,
      "outputs": []
    },
    {
      "cell_type": "code",
      "metadata": {
        "id": "UZ48zCmV_dxg"
      },
      "source": [
        "import re\n",
        "pattern = 'python'\n",
        "# match only returns a match if regex match is found at the beginning of the string\n",
        "re.match(pattern, s1)"
      ],
      "execution_count": 72,
      "outputs": []
    },
    {
      "cell_type": "code",
      "metadata": {
        "colab": {
          "base_uri": "https://localhost:8080/"
        },
        "id": "f2IvUMUY_fwM",
        "outputId": "251d5cc3-707b-4f2d-9c9d-d02d5560d484"
      },
      "source": [
        "# pattern is in lower case hence ignore case flag helps\n",
        "# in matching same pattern with different cases\n",
        "re.match(pattern, s1, flags=re.IGNORECASE)"
      ],
      "execution_count": 73,
      "outputs": [
        {
          "output_type": "execute_result",
          "data": {
            "text/plain": [
              "<re.Match object; span=(0, 6), match='Python'>"
            ]
          },
          "metadata": {
            "tags": []
          },
          "execution_count": 73
        }
      ]
    },
    {
      "cell_type": "code",
      "metadata": {
        "colab": {
          "base_uri": "https://localhost:8080/"
        },
        "id": "58vN6d7v_iu7",
        "outputId": "6c16452f-2b85-4546-b527-1d829a600272"
      },
      "source": [
        "# printing matched string and its indices in the original string\n",
        "m = re.match(pattern, s1, flags=re.IGNORECASE)\n",
        "print('Found match {} ranging from index {} - {} in the string \"{}\"'.format(m.group(0), \n",
        "                                                                            m.start(), \n",
        "                                                                            m.end(), s1))"
      ],
      "execution_count": 74,
      "outputs": [
        {
          "output_type": "stream",
          "text": [
            "Found match Python ranging from index 0 - 6 in the string \"Python is an excellent language\"\n"
          ],
          "name": "stdout"
        }
      ]
    },
    {
      "cell_type": "code",
      "metadata": {
        "id": "v_GqFtgO_nJz"
      },
      "source": [
        "# match does not work when pattern is not there in the beginning of string s2\n",
        "re.match(pattern, s2, re.IGNORECASE)"
      ],
      "execution_count": 75,
      "outputs": []
    },
    {
      "cell_type": "code",
      "metadata": {
        "colab": {
          "base_uri": "https://localhost:8080/"
        },
        "id": "-anKhr5C_7Sx",
        "outputId": "ff322c8a-c788-4bf3-bfba-25b6846c85df"
      },
      "source": [
        "re.search(pattern, s2, re.IGNORECASE)"
      ],
      "execution_count": 76,
      "outputs": [
        {
          "output_type": "execute_result",
          "data": {
            "text/plain": [
              "<re.Match object; span=(11, 17), match='Python'>"
            ]
          },
          "metadata": {
            "tags": []
          },
          "execution_count": 76
        }
      ]
    },
    {
      "cell_type": "code",
      "metadata": {
        "colab": {
          "base_uri": "https://localhost:8080/"
        },
        "id": "1-_suCufD3EA",
        "outputId": "059a1e76-c80c-4b14-eb70-9c4e021c8ffd"
      },
      "source": [
        "re.findall(pattern, s2, re.IGNORECASE)"
      ],
      "execution_count": 77,
      "outputs": [
        {
          "output_type": "execute_result",
          "data": {
            "text/plain": [
              "['Python', 'Python']"
            ]
          },
          "metadata": {
            "tags": []
          },
          "execution_count": 77
        }
      ]
    },
    {
      "cell_type": "code",
      "metadata": {
        "colab": {
          "base_uri": "https://localhost:8080/"
        },
        "id": "hMm4WYalD5TI",
        "outputId": "892c460a-7178-46b1-ea74-6792cfaca640"
      },
      "source": [
        "match_objs = re.finditer(pattern, s2, re.IGNORECASE)\n",
        "match_objs"
      ],
      "execution_count": 78,
      "outputs": [
        {
          "output_type": "execute_result",
          "data": {
            "text/plain": [
              "<callable_iterator at 0x7f9aada024d0>"
            ]
          },
          "metadata": {
            "tags": []
          },
          "execution_count": 78
        }
      ]
    },
    {
      "cell_type": "code",
      "metadata": {
        "colab": {
          "base_uri": "https://localhost:8080/"
        },
        "id": "IfX4XzqlD8On",
        "outputId": "2b5b8748-23ca-419a-b220-df24b7d719d7"
      },
      "source": [
        "print(\"String:\", s2)\n",
        "for m in match_objs:\n",
        "    print('Found match \"{}\" ranging from index {} - {}'.format(m.group(0), \n",
        "                                                               m.start(), m.end()))"
      ],
      "execution_count": 79,
      "outputs": [
        {
          "output_type": "stream",
          "text": [
            "String: I love the Python language. I also use Python to build applications at work!\n",
            "Found match \"Python\" ranging from index 11 - 17\n",
            "Found match \"Python\" ranging from index 39 - 45\n"
          ],
          "name": "stdout"
        }
      ]
    },
    {
      "cell_type": "code",
      "metadata": {
        "colab": {
          "base_uri": "https://localhost:8080/",
          "height": 52
        },
        "id": "z9maQEm_EBlp",
        "outputId": "da623f31-f379-42c8-932f-245ae1c59703"
      },
      "source": [
        "# illustrating pattern substitution using sub and subn methods\n",
        "pattern = 'Python'\n",
        "print(s2)\n",
        "re.sub(pattern, 'Java', s2, flags=re.IGNORECASE)"
      ],
      "execution_count": 80,
      "outputs": [
        {
          "output_type": "stream",
          "text": [
            "I love the Python language. I also use Python to build applications at work!\n"
          ],
          "name": "stdout"
        },
        {
          "output_type": "execute_result",
          "data": {
            "application/vnd.google.colaboratory.intrinsic+json": {
              "type": "string"
            },
            "text/plain": [
              "'I love the Java language. I also use Java to build applications at work!'"
            ]
          },
          "metadata": {
            "tags": []
          },
          "execution_count": 80
        }
      ]
    },
    {
      "cell_type": "code",
      "metadata": {
        "colab": {
          "base_uri": "https://localhost:8080/"
        },
        "id": "z6ukP8X2EKah",
        "outputId": "384e697f-d53e-42a3-bc28-cebda90b64f7"
      },
      "source": [
        "re.subn(pattern, 'Java', s2, flags=re.IGNORECASE)"
      ],
      "execution_count": 81,
      "outputs": [
        {
          "output_type": "execute_result",
          "data": {
            "text/plain": [
              "('I love the Java language. I also use Java to build applications at work!', 2)"
            ]
          },
          "metadata": {
            "tags": []
          },
          "execution_count": 81
        }
      ]
    },
    {
      "cell_type": "code",
      "metadata": {
        "colab": {
          "base_uri": "https://localhost:8080/",
          "height": 35
        },
        "id": "GZjmHqYGEM0T",
        "outputId": "56cf1a04-c00b-49bc-b687-f92c8d7c1d83"
      },
      "source": [
        "# dealing with unicode matching using regexes\n",
        "s = u'H\\u00e8llo! this is Python 🐍'\n",
        "s"
      ],
      "execution_count": 82,
      "outputs": [
        {
          "output_type": "execute_result",
          "data": {
            "application/vnd.google.colaboratory.intrinsic+json": {
              "type": "string"
            },
            "text/plain": [
              "'Hèllo! this is Python 🐍'"
            ]
          },
          "metadata": {
            "tags": []
          },
          "execution_count": 82
        }
      ]
    },
    {
      "cell_type": "code",
      "metadata": {
        "colab": {
          "base_uri": "https://localhost:8080/"
        },
        "id": "0GAGPVumEPAa",
        "outputId": "212d2e46-90e4-4f23-a47e-e6f8c133fa9f"
      },
      "source": [
        "re.findall(r'\\w+', s)"
      ],
      "execution_count": 83,
      "outputs": [
        {
          "output_type": "execute_result",
          "data": {
            "text/plain": [
              "['Hèllo', 'this', 'is', 'Python']"
            ]
          },
          "metadata": {
            "tags": []
          },
          "execution_count": 83
        }
      ]
    },
    {
      "cell_type": "code",
      "metadata": {
        "colab": {
          "base_uri": "https://localhost:8080/"
        },
        "id": "VZryrkz6ERiJ",
        "outputId": "23cd996f-561e-4fcd-f01b-36229c74d74b"
      },
      "source": [
        "re.findall(r\"[A-Z]\\w+\", s, re.UNICODE)"
      ],
      "execution_count": 84,
      "outputs": [
        {
          "output_type": "execute_result",
          "data": {
            "text/plain": [
              "['Hèllo', 'Python']"
            ]
          },
          "metadata": {
            "tags": []
          },
          "execution_count": 84
        }
      ]
    },
    {
      "cell_type": "code",
      "metadata": {
        "colab": {
          "base_uri": "https://localhost:8080/"
        },
        "id": "rTRijOZjETdE",
        "outputId": "718ffa86-835d-44b0-a510-499aec1204df"
      },
      "source": [
        "emoji_pattern = r\"['\\U0001F300-\\U0001F5FF'|'\\U0001F600-\\U0001F64F'|'\\U0001F680-\\U0001F6FF'|'\\u2600-\\u26FF\\u2700-\\u27BF']\"\n",
        "re.findall(emoji_pattern, s, re.UNICODE)"
      ],
      "execution_count": 85,
      "outputs": [
        {
          "output_type": "execute_result",
          "data": {
            "text/plain": [
              "['🐍']"
            ]
          },
          "metadata": {
            "tags": []
          },
          "execution_count": 85
        }
      ]
    },
    {
      "cell_type": "markdown",
      "metadata": {
        "id": "_KgxQcBqGKrq"
      },
      "source": [
        "# Basic Text Processing and Analysis"
      ]
    },
    {
      "cell_type": "code",
      "metadata": {
        "colab": {
          "base_uri": "https://localhost:8080/"
        },
        "id": "oLCIdPppIjS3",
        "outputId": "992a8148-d70c-4856-93f3-5bf9cfe380d7"
      },
      "source": [
        "import nltk\n",
        "nltk.download('gutenberg')"
      ],
      "execution_count": 86,
      "outputs": [
        {
          "output_type": "stream",
          "text": [
            "[nltk_data] Downloading package gutenberg to /root/nltk_data...\n",
            "[nltk_data]   Package gutenberg is already up-to-date!\n"
          ],
          "name": "stdout"
        },
        {
          "output_type": "execute_result",
          "data": {
            "text/plain": [
              "True"
            ]
          },
          "metadata": {
            "tags": []
          },
          "execution_count": 86
        }
      ]
    },
    {
      "cell_type": "code",
      "metadata": {
        "colab": {
          "base_uri": "https://localhost:8080/"
        },
        "id": "i8FtWV8VIbVG",
        "outputId": "9254b6ea-47ad-46bb-d0c2-777f375b6c62"
      },
      "source": [
        "from nltk.corpus import gutenberg\n",
        "import matplotlib.pyplot as plt\n",
        "\n",
        "%matplotlib inline\n",
        "\n",
        "fields = gutenberg.fileids()\n",
        "\n",
        "print(fields)\n",
        "print('\\n')\n",
        "print('Total files present in Gutenberg Corpus:', len(fields))"
      ],
      "execution_count": 87,
      "outputs": [
        {
          "output_type": "stream",
          "text": [
            "['austen-emma.txt', 'austen-persuasion.txt', 'austen-sense.txt', 'bible-kjv.txt', 'blake-poems.txt', 'bryant-stories.txt', 'burgess-busterbrown.txt', 'carroll-alice.txt', 'chesterton-ball.txt', 'chesterton-brown.txt', 'chesterton-thursday.txt', 'edgeworth-parents.txt', 'melville-moby_dick.txt', 'milton-paradise.txt', 'shakespeare-caesar.txt', 'shakespeare-hamlet.txt', 'shakespeare-macbeth.txt', 'whitman-leaves.txt']\n",
            "\n",
            "\n",
            "Total files present in Gutenberg Corpus: 18\n"
          ],
          "name": "stdout"
        }
      ]
    },
    {
      "cell_type": "code",
      "metadata": {
        "colab": {
          "base_uri": "https://localhost:8080/"
        },
        "id": "BaVjyl-pEXNe",
        "outputId": "3fe7ca57-0feb-4095-bd69-dec199e6c3be"
      },
      "source": [
        "bible = gutenberg.open('bible-kjv.txt')\n",
        "bible = bible.readlines()\n",
        "\n",
        "bible[:5]"
      ],
      "execution_count": 88,
      "outputs": [
        {
          "output_type": "execute_result",
          "data": {
            "text/plain": [
              "['[The King James Bible]\\n',\n",
              " '\\n',\n",
              " 'The Old Testament of the King James Bible\\n',\n",
              " '\\n',\n",
              " 'The First Book of Moses:  Called Genesis\\n']"
            ]
          },
          "metadata": {
            "tags": []
          },
          "execution_count": 88
        }
      ]
    },
    {
      "cell_type": "code",
      "metadata": {
        "colab": {
          "base_uri": "https://localhost:8080/"
        },
        "id": "TAZ4SV8zJPsz",
        "outputId": "4bc360dc-3791-44cb-ae13-e1b4ed921928"
      },
      "source": [
        "len(bible)"
      ],
      "execution_count": 89,
      "outputs": [
        {
          "output_type": "execute_result",
          "data": {
            "text/plain": [
              "99805"
            ]
          },
          "metadata": {
            "tags": []
          },
          "execution_count": 89
        }
      ]
    },
    {
      "cell_type": "code",
      "metadata": {
        "colab": {
          "base_uri": "https://localhost:8080/"
        },
        "id": "v7uFlO6RJhTT",
        "outputId": "ae3241d7-3535-473d-f15e-c6f40e423c19"
      },
      "source": [
        "bible = list(filter(None, [item.strip('\\n') for item in bible]))\n",
        "bible[:5]"
      ],
      "execution_count": 90,
      "outputs": [
        {
          "output_type": "execute_result",
          "data": {
            "text/plain": [
              "['[The King James Bible]',\n",
              " 'The Old Testament of the King James Bible',\n",
              " 'The First Book of Moses:  Called Genesis',\n",
              " '1:1 In the beginning God created the heaven and the earth.',\n",
              " '1:2 And the earth was without form, and void; and darkness was upon']"
            ]
          },
          "metadata": {
            "tags": []
          },
          "execution_count": 90
        }
      ]
    },
    {
      "cell_type": "code",
      "metadata": {
        "colab": {
          "base_uri": "https://localhost:8080/"
        },
        "id": "dY1yrCEVJkAS",
        "outputId": "5f55c1d3-c4f7-4b1f-d592-dfd76a7a1d49"
      },
      "source": [
        "len(bible)"
      ],
      "execution_count": 91,
      "outputs": [
        {
          "output_type": "execute_result",
          "data": {
            "text/plain": [
              "74645"
            ]
          },
          "metadata": {
            "tags": []
          },
          "execution_count": 91
        }
      ]
    },
    {
      "cell_type": "code",
      "metadata": {
        "colab": {
          "base_uri": "https://localhost:8080/",
          "height": 265
        },
        "id": "4IjX3i4BKVyY",
        "outputId": "aea3bde9-0a4e-4f5a-914a-a651b5dd4362"
      },
      "source": [
        "line_lengths = [len(sentence) for sentence in bible]\n",
        "h = plt.hist(line_lengths)"
      ],
      "execution_count": 92,
      "outputs": [
        {
          "output_type": "display_data",
          "data": {
            "image/png": "[encoded data removed]",
            "text/plain": [
              "<Figure size 432x288 with 1 Axes>"
            ]
          },
          "metadata": {
            "tags": [],
            "needs_background": "light"
          }
        }
      ]
    },
    {
      "cell_type": "code",
      "metadata": {
        "colab": {
          "base_uri": "https://localhost:8080/"
        },
        "id": "wrzhKZxIKeqN",
        "outputId": "eba74ed7-3fd3-4483-e2cb-cd52efaeb464"
      },
      "source": [
        "tokens = [line.split() for line in bible]\n",
        "print(tokens[:5])"
      ],
      "execution_count": 93,
      "outputs": [
        {
          "output_type": "stream",
          "text": [
            "[['[The', 'King', 'James', 'Bible]'], ['The', 'Old', 'Testament', 'of', 'the', 'King', 'James', 'Bible'], ['The', 'First', 'Book', 'of', 'Moses:', 'Called', 'Genesis'], ['1:1', 'In', 'the', 'beginning', 'God', 'created', 'the', 'heaven', 'and', 'the', 'earth.'], ['1:2', 'And', 'the', 'earth', 'was', 'without', 'form,', 'and', 'void;', 'and', 'darkness', 'was', 'upon']]\n"
          ],
          "name": "stdout"
        }
      ]
    },
    {
      "cell_type": "code",
      "metadata": {
        "colab": {
          "base_uri": "https://localhost:8080/",
          "height": 265
        },
        "id": "zRpy_2ZfK1JO",
        "outputId": "49c24834-32fe-4bab-aeda-922c77f17851"
      },
      "source": [
        "total_tokens_per_line = [len(sentence.split()) for sentence in bible]\n",
        "h = plt.hist(total_tokens_per_line, color='orange')"
      ],
      "execution_count": 94,
      "outputs": [
        {
          "output_type": "display_data",
          "data": {
            "image/png": "[encoded data removed]",
            "text/plain": [
              "<Figure size 432x288 with 1 Axes>"
            ]
          },
          "metadata": {
            "tags": [],
            "needs_background": "light"
          }
        }
      ]
    },
    {
      "cell_type": "code",
      "metadata": {
        "colab": {
          "base_uri": "https://localhost:8080/"
        },
        "id": "9VMx48ulK7f7",
        "outputId": "eb5e4179-e1a0-46ca-9768-73480c26b34c"
      },
      "source": [
        "max(total_tokens_per_line) , min(total_tokens_per_line)"
      ],
      "execution_count": 95,
      "outputs": [
        {
          "output_type": "execute_result",
          "data": {
            "text/plain": [
              "(19, 1)"
            ]
          },
          "metadata": {
            "tags": []
          },
          "execution_count": 95
        }
      ]
    },
    {
      "cell_type": "code",
      "metadata": {
        "colab": {
          "base_uri": "https://localhost:8080/"
        },
        "id": "Uw6NwUeTMYWl",
        "outputId": "6ffae788-99ed-449a-8794-c8f96d53e1fd"
      },
      "source": [
        "words = [word for sentence in tokens for word in sentence]\n",
        "print(words[:10])\n",
        "\n",
        "print('Total # words:', len(words))"
      ],
      "execution_count": 96,
      "outputs": [
        {
          "output_type": "stream",
          "text": [
            "['[The', 'King', 'James', 'Bible]', 'The', 'Old', 'Testament', 'of', 'the', 'King']\n",
            "Total # words: 821133\n"
          ],
          "name": "stdout"
        }
      ]
    },
    {
      "cell_type": "code",
      "metadata": {
        "colab": {
          "base_uri": "https://localhost:8080/"
        },
        "id": "fV9xSm_xNRlt",
        "outputId": "a5e26c7c-87e4-4e0c-d2db-ce044900a3ae"
      },
      "source": [
        "words = list(filter(None, [re.sub(r'[^A-Za-z]', '', word) for word in words]))\n",
        "print(words[:10])"
      ],
      "execution_count": 97,
      "outputs": [
        {
          "output_type": "stream",
          "text": [
            "['The', 'King', 'James', 'Bible', 'The', 'Old', 'Testament', 'of', 'the', 'King']\n"
          ],
          "name": "stdout"
        }
      ]
    },
    {
      "cell_type": "code",
      "metadata": {
        "colab": {
          "base_uri": "https://localhost:8080/"
        },
        "id": "71Fpg93xNsQQ",
        "outputId": "7c193efa-27fd-4189-8015-28cbaecda3ce"
      },
      "source": [
        "from collections import Counter\n",
        "\n",
        "words = [word.lower() for word in words]\n",
        "c = Counter(words)\n",
        "print(c.most_common(5))\n",
        "print(c.most_common()[-5:])"
      ],
      "execution_count": 98,
      "outputs": [
        {
          "output_type": "stream",
          "text": [
            "[('the', 64023), ('and', 51696), ('of', 34670), ('to', 13580), ('that', 12912)]\n",
            "[('sardonyx', 1), ('chrysolyte', 1), ('chrysoprasus', 1), ('transparent', 1), ('proceeding', 1)]\n"
          ],
          "name": "stdout"
        }
      ]
    },
    {
      "cell_type": "code",
      "metadata": {
        "colab": {
          "base_uri": "https://localhost:8080/"
        },
        "id": "TUp3R7lBOSCc",
        "outputId": "7bb1bb6c-39a3-4033-f872-b4e1dbd21a88"
      },
      "source": [
        "nltk.download('stopwords')\n",
        "\n",
        "stopwords = nltk.corpus.stopwords.words('english')\n",
        "words = [word.lower() for word in words if word.lower() not in stopwords]\n",
        "c = Counter(words)\n",
        "c.most_common(10)"
      ],
      "execution_count": 99,
      "outputs": [
        {
          "output_type": "stream",
          "text": [
            "[nltk_data] Downloading package stopwords to /root/nltk_data...\n",
            "[nltk_data]   Package stopwords is already up-to-date!\n"
          ],
          "name": "stdout"
        },
        {
          "output_type": "execute_result",
          "data": {
            "text/plain": [
              "[('shall', 9838),\n",
              " ('unto', 8997),\n",
              " ('lord', 7830),\n",
              " ('thou', 5474),\n",
              " ('thy', 4600),\n",
              " ('god', 4442),\n",
              " ('said', 3999),\n",
              " ('ye', 3983),\n",
              " ('thee', 3826),\n",
              " ('upon', 2748)]"
            ]
          },
          "metadata": {
            "tags": []
          },
          "execution_count": 99
        }
      ]
    },
    {
      "cell_type": "markdown",
      "metadata": {
        "id": "fxNHk9FzQMUM"
      },
      "source": [
        "**Done!!!**"
      ]
    }
  ]
}