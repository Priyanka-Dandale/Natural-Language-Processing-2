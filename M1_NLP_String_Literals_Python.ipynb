{
  "nbformat": 4,
  "nbformat_minor": 0,
  "metadata": {
    "colab": {
      "name": "M1-NLP-String-Literals-Python.ipynb",
      "provenance": [],
      "collapsed_sections": []
    },
    "kernelspec": {
      "name": "python3",
      "display_name": "Python 3"
    },
    "language_info": {
      "name": "python"
    }
  },
  "cells": [
    {
      "cell_type": "markdown",
      "metadata": {
        "id": "sJepvIsiGZlq"
      },
      "source": [
        "# String literals are described by the following lexical definitions:"
      ]
    },
    {
      "cell_type": "markdown",
      "metadata": {
        "id": "cpCVaLmhGRIp"
      },
      "source": [
        "```\n",
        "stringliteral   ::=  [stringprefix](shortstring | longstring)\n",
        "stringprefix    ::=  \"r\" | \"u\" | \"R\" | \"U\" | \"f\" | \"F\"\n",
        "                     | \"fr\" | \"Fr\" | \"fR\" | \"FR\" | \"rf\" | \"rF\" | \"Rf\" | \"RF\"\n",
        "shortstring     ::=  \"'\" shortstringitem* \"'\" | '\"' shortstringitem* '\"'\n",
        "longstring      ::=  \"'''\" longstringitem* \"'''\" | '\"\"\"' longstringitem* '\"\"\"'\n",
        "shortstringitem ::=  shortstringchar | stringescapeseq\n",
        "longstringitem  ::=  longstringchar | stringescapeseq\n",
        "shortstringchar ::=  <any source character except \"\\\" or newline or the quote>\n",
        "longstringchar  ::=  <any source character except \"\\\">\n",
        "stringescapeseq ::=  \"\\\" <any source character>\n",
        "```"
      ]
    },
    {
      "cell_type": "code",
      "metadata": {
        "colab": {
          "base_uri": "https://localhost:8080/",
          "height": 35
        },
        "id": "YbeRhEmSGN5H",
        "outputId": "fb221212-cbd0-4646-f5cf-30d861570c95"
      },
      "source": [
        "a = 'Attract Positivity'\n",
        "a"
      ],
      "execution_count": 3,
      "outputs": [
        {
          "output_type": "execute_result",
          "data": {
            "application/vnd.google.colaboratory.intrinsic+json": {
              "type": "string"
            },
            "text/plain": [
              "'Attract Positivity'"
            ]
          },
          "metadata": {
            "tags": []
          },
          "execution_count": 3
        }
      ]
    },
    {
      "cell_type": "code",
      "metadata": {
        "colab": {
          "base_uri": "https://localhost:8080/",
          "height": 35
        },
        "id": "XEaFqinwH1Yw",
        "outputId": "c46425bb-7b72-4282-9f8a-c3230dd6b777"
      },
      "source": [
        "a = 'A string'  # string literal with single quotes\n",
        "a"
      ],
      "execution_count": 4,
      "outputs": [
        {
          "output_type": "execute_result",
          "data": {
            "application/vnd.google.colaboratory.intrinsic+json": {
              "type": "string"
            },
            "text/plain": [
              "'A string'"
            ]
          },
          "metadata": {
            "tags": []
          },
          "execution_count": 4
        }
      ]
    },
    {
      "cell_type": "code",
      "metadata": {
        "colab": {
          "base_uri": "https://localhost:8080/",
          "height": 35
        },
        "id": "LLMQFIPhIoGF",
        "outputId": "b5c83170-8842-48d1-adcd-b849d5a8a9d9"
      },
      "source": [
        "b = \"A string\"  # string literal with double quotes\n",
        "b"
      ],
      "execution_count": 5,
      "outputs": [
        {
          "output_type": "execute_result",
          "data": {
            "application/vnd.google.colaboratory.intrinsic+json": {
              "type": "string"
            },
            "text/plain": [
              "'A string'"
            ]
          },
          "metadata": {
            "tags": []
          },
          "execution_count": 5
        }
      ]
    },
    {
      "cell_type": "code",
      "metadata": {
        "colab": {
          "base_uri": "https://localhost:8080/",
          "height": 35
        },
        "id": "bgZR4JntIxbl",
        "outputId": "35d29946-360e-4b9e-cf93-108691e394ff"
      },
      "source": [
        "c = \"C string\"  # string literal with double quotes\n",
        "c"
      ],
      "execution_count": 7,
      "outputs": [
        {
          "output_type": "execute_result",
          "data": {
            "application/vnd.google.colaboratory.intrinsic+json": {
              "type": "string"
            },
            "text/plain": [
              "'C string'"
            ]
          },
          "metadata": {
            "tags": []
          },
          "execution_count": 7
        }
      ]
    },
    {
      "cell_type": "code",
      "metadata": {
        "colab": {
          "base_uri": "https://localhost:8080/"
        },
        "id": "R_E2skhAIrSG",
        "outputId": "d9c661c0-ac81-454d-b575-b7d3fc59e9b3"
      },
      "source": [
        "b == a          # there is no difference between these strings"
      ],
      "execution_count": 6,
      "outputs": [
        {
          "output_type": "execute_result",
          "data": {
            "text/plain": [
              "True"
            ]
          },
          "metadata": {
            "tags": []
          },
          "execution_count": 6
        }
      ]
    },
    {
      "cell_type": "code",
      "metadata": {
        "colab": {
          "base_uri": "https://localhost:8080/"
        },
        "id": "f_qzBTNXItKp",
        "outputId": "1cd1eb8e-e930-4ab9-db3a-ab7debce942a"
      },
      "source": [
        "print(a == c)          # there is difference between these strings\n",
        "print(b == c) "
      ],
      "execution_count": 10,
      "outputs": [
        {
          "output_type": "stream",
          "text": [
            "False\n",
            "False\n"
          ],
          "name": "stdout"
        }
      ]
    },
    {
      "cell_type": "code",
      "metadata": {
        "colab": {
          "base_uri": "https://localhost:8080/"
        },
        "id": "QuB88aDPI2lA",
        "outputId": "213a23ea-e8b0-4f0f-8458-89bd47118212"
      },
      "source": [
        "print('Single quoted string with double quote \" is no problem.')"
      ],
      "execution_count": 11,
      "outputs": [
        {
          "output_type": "stream",
          "text": [
            "Single quoted string with double quote \" is no problem.\n"
          ],
          "name": "stdout"
        }
      ]
    },
    {
      "cell_type": "code",
      "metadata": {
        "colab": {
          "base_uri": "https://localhost:8080/"
        },
        "id": "rJouRocFKL6W",
        "outputId": "3647ef95-ae04-4a83-c449-ef0f275e8212"
      },
      "source": [
        "print('Single quoted string containing \\' is OK with backslash')"
      ],
      "execution_count": 14,
      "outputs": [
        {
          "output_type": "stream",
          "text": [
            "Single quoted string containing ' is OK with backslash\n"
          ],
          "name": "stdout"
        }
      ]
    },
    {
      "cell_type": "code",
      "metadata": {
        "colab": {
          "base_uri": "https://localhost:8080/",
          "height": 129
        },
        "id": "FTJvFAHzKzCD",
        "outputId": "5dfc47eb-93c4-4d1a-ad5c-2b82c8611ba7"
      },
      "source": [
        "print('Single quoted string containing ' is NOT OK without backslash')"
      ],
      "execution_count": 16,
      "outputs": [
        {
          "output_type": "error",
          "ename": "SyntaxError",
          "evalue": "ignored",
          "traceback": [
            "\u001b[0;36m  File \u001b[0;32m\"<ipython-input-16-814ac5e3b8e8>\"\u001b[0;36m, line \u001b[0;32m1\u001b[0m\n\u001b[0;31m    print('Single quoted string containing ' is NOT OK without backslash')\u001b[0m\n\u001b[0m                                                     ^\u001b[0m\n\u001b[0;31mSyntaxError\u001b[0m\u001b[0;31m:\u001b[0m invalid syntax\n"
          ]
        }
      ]
    },
    {
      "cell_type": "code",
      "metadata": {
        "colab": {
          "base_uri": "https://localhost:8080/"
        },
        "id": "amOXjBD_K6uB",
        "outputId": "9f0a84a6-ac07-4236-d911-257c8e3fe969"
      },
      "source": [
        "print(\"Double quoted string with ' is no problem\")\n"
      ],
      "execution_count": 17,
      "outputs": [
        {
          "output_type": "stream",
          "text": [
            "Double quoted string with ' is no problem\n"
          ],
          "name": "stdout"
        }
      ]
    },
    {
      "cell_type": "code",
      "metadata": {
        "colab": {
          "base_uri": "https://localhost:8080/"
        },
        "id": "Bo0jCSfvLhvj",
        "outputId": "89c7e4ce-eb95-4644-9c5c-a10a4c1215c6"
      },
      "source": [
        "print(\"Double quoted string containing \\\" is OK with backslash\")"
      ],
      "execution_count": 18,
      "outputs": [
        {
          "output_type": "stream",
          "text": [
            "Double quoted string containing \" is OK with backslash\n"
          ],
          "name": "stdout"
        }
      ]
    },
    {
      "cell_type": "code",
      "metadata": {
        "colab": {
          "base_uri": "https://localhost:8080/",
          "height": 129
        },
        "id": "uHNAr_HPLjD4",
        "outputId": "f02a776f-85ec-43f4-ae62-4107078e2d26"
      },
      "source": [
        "print(\"Double quoted string containing \" is NOT OK without backslash\")"
      ],
      "execution_count": 19,
      "outputs": [
        {
          "output_type": "error",
          "ename": "SyntaxError",
          "evalue": "ignored",
          "traceback": [
            "\u001b[0;36m  File \u001b[0;32m\"<ipython-input-19-a0c9d22f3db8>\"\u001b[0;36m, line \u001b[0;32m1\u001b[0m\n\u001b[0;31m    print(\"Double quoted string containing \" is NOT OK without backslash\")\u001b[0m\n\u001b[0m                                                     ^\u001b[0m\n\u001b[0;31mSyntaxError\u001b[0m\u001b[0;31m:\u001b[0m invalid syntax\n"
          ]
        }
      ]
    },
    {
      "cell_type": "code",
      "metadata": {
        "colab": {
          "base_uri": "https://localhost:8080/"
        },
        "id": "0tNa9EunLpBW",
        "outputId": "0348d654-5e98-47a4-f3fc-7639882fa158"
      },
      "source": [
        "print('Backslash before \"n\", as in \\n, inserts a new line character')  #doctest: +NORMALIZE_WHITESPACE"
      ],
      "execution_count": 20,
      "outputs": [
        {
          "output_type": "stream",
          "text": [
            "Backslash before \"n\", as in \n",
            ", inserts a new line character\n"
          ],
          "name": "stdout"
        }
      ]
    },
    {
      "cell_type": "code",
      "metadata": {
        "colab": {
          "base_uri": "https://localhost:8080/"
        },
        "id": "srqAcrMJMIGi",
        "outputId": "29f4df98-57a3-4f83-a17b-f36935dddf11"
      },
      "source": [
        "print('No backslash before \"n\" as in n, does not insert a new line character')"
      ],
      "execution_count": 23,
      "outputs": [
        {
          "output_type": "stream",
          "text": [
            "No backslash before \"n\" as in n, does not insert a new line character\n"
          ],
          "name": "stdout"
        }
      ]
    },
    {
      "cell_type": "code",
      "metadata": {
        "colab": {
          "base_uri": "https://localhost:8080/"
        },
        "id": "UK5rlILbMNUC",
        "outputId": "2b269901-5cdd-454c-a22b-cc4a2ea3a9b9"
      },
      "source": [
        "print(r'Prefixed by \"r\" the \\n no longer inserts a new line')"
      ],
      "execution_count": 24,
      "outputs": [
        {
          "output_type": "stream",
          "text": [
            "Prefixed by \"r\" the \\n no longer inserts a new line\n"
          ],
          "name": "stdout"
        }
      ]
    },
    {
      "cell_type": "code",
      "metadata": {
        "colab": {
          "base_uri": "https://localhost:8080/"
        },
        "id": "2tJrBQEwMw2b",
        "outputId": "cd51d136-4d3a-4bb6-cadf-1866847c3b64"
      },
      "source": [
        "print('''This string literal\n",
        "... has more than one\n",
        "... line''')"
      ],
      "execution_count": 25,
      "outputs": [
        {
          "output_type": "stream",
          "text": [
            "This string literal\n",
            "has more than one\n",
            "line\n"
          ],
          "name": "stdout"
        }
      ]
    },
    {
      "cell_type": "code",
      "metadata": {
        "colab": {
          "base_uri": "https://localhost:8080/"
        },
        "id": "JjIF-3MINQMu",
        "outputId": "4aaacef1-11b2-40e7-b6f8-caaaefc77ecc"
      },
      "source": [
        "print(\"\"\"This string literal\n",
        "... also has more than one\n",
        "... line\"\"\")"
      ],
      "execution_count": 26,
      "outputs": [
        {
          "output_type": "stream",
          "text": [
            "This string literal\n",
            "also has more than one\n",
            "line\n"
          ],
          "name": "stdout"
        }
      ]
    },
    {
      "cell_type": "code",
      "metadata": {
        "colab": {
          "base_uri": "https://localhost:8080/",
          "height": 35
        },
        "id": "pIb_c2PdNgFL",
        "outputId": "c8758b39-dd51-43c0-f90f-830255465282"
      },
      "source": [
        "# formatted string literals\n",
        "name = \"Priyanka\"\n",
        "f\"She said her name is {name!r}.\""
      ],
      "execution_count": 29,
      "outputs": [
        {
          "output_type": "execute_result",
          "data": {
            "application/vnd.google.colaboratory.intrinsic+json": {
              "type": "string"
            },
            "text/plain": [
              "\"She said her name is 'Priyanka'.\""
            ]
          },
          "metadata": {
            "tags": []
          },
          "execution_count": 29
        }
      ]
    },
    {
      "cell_type": "code",
      "metadata": {
        "colab": {
          "base_uri": "https://localhost:8080/",
          "height": 35
        },
        "id": "zD6gTfZeOyMT",
        "outputId": "3e2e8dcb-8b14-434a-9844-b2861f54f4bd"
      },
      "source": [
        "import decimal\n",
        "width = 10\n",
        "precision = 4\n",
        "value = decimal.Decimal(\"12.34567\")\n",
        "f\"result: {value:{width}.{precision}}\"  # nested fields"
      ],
      "execution_count": 31,
      "outputs": [
        {
          "output_type": "execute_result",
          "data": {
            "application/vnd.google.colaboratory.intrinsic+json": {
              "type": "string"
            },
            "text/plain": [
              "'result:      12.35'"
            ]
          },
          "metadata": {
            "tags": []
          },
          "execution_count": 31
        }
      ]
    },
    {
      "cell_type": "markdown",
      "metadata": {
        "id": "TYp-OOmoQ7KT"
      },
      "source": [
        "**Done!!!**"
      ]
    }
  ]
}