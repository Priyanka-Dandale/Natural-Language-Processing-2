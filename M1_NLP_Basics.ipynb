{
  "nbformat": 4,
  "nbformat_minor": 0,
  "metadata": {
    "colab": {
      "name": "M1-NLP-Basics.ipynb",
      "provenance": [],
      "collapsed_sections": [],
      "toc_visible": true
    },
    "kernelspec": {
      "name": "python3",
      "display_name": "Python 3"
    },
    "language_info": {
      "name": "python"
    }
  },
  "cells": [
    {
      "cell_type": "markdown",
      "metadata": {
        "id": "wq2dlyZsUPhx"
      },
      "source": [
        "# 1. Installation of required libraries"
      ]
    },
    {
      "cell_type": "code",
      "metadata": {
        "colab": {
          "base_uri": "https://localhost:8080/"
        },
        "id": "83nWN-rhHBmI",
        "outputId": "53e1c713-50d5-4793-d6f9-2fdbaf6f59e3"
      },
      "source": [
        "import nltk\n",
        "import spacy\n",
        "import numpy as np\n",
        "import pandas as pd\n",
        "\n",
        "nltk.download('averaged_perceptron_tagger')\n",
        "\n",
        "# vocabulory installation\n",
        "nlp = spacy.load('en')\n",
        "nlp"
      ],
      "execution_count": 27,
      "outputs": [
        {
          "output_type": "stream",
          "text": [
            "[nltk_data] Downloading package averaged_perceptron_tagger to\n",
            "[nltk_data]     /root/nltk_data...\n",
            "[nltk_data]   Package averaged_perceptron_tagger is already up-to-\n",
            "[nltk_data]       date!\n"
          ],
          "name": "stdout"
        },
        {
          "output_type": "execute_result",
          "data": {
            "text/plain": [
              "<spacy.lang.en.English at 0x7f59e4330dd0>"
            ]
          },
          "metadata": {
            "tags": []
          },
          "execution_count": 27
        }
      ]
    },
    {
      "cell_type": "markdown",
      "metadata": {
        "id": "CJMYmRffFl7G"
      },
      "source": [
        "# Text Processing"
      ]
    },
    {
      "cell_type": "code",
      "metadata": {
        "colab": {
          "base_uri": "https://localhost:8080/",
          "height": 35
        },
        "id": "Y-Xe8jLST8Re",
        "outputId": "edb3ac32-5bae-40a6-cf04-7d44de1f1882"
      },
      "source": [
        "# consider below sentence\n",
        "sentence = \"The little bear saw the fine fat trout in the brook\"\n",
        "sentence"
      ],
      "execution_count": 28,
      "outputs": [
        {
          "output_type": "execute_result",
          "data": {
            "application/vnd.google.colaboratory.intrinsic+json": {
              "type": "string"
            },
            "text/plain": [
              "'The little bear saw the fine fat trout in the brook'"
            ]
          },
          "metadata": {
            "tags": []
          },
          "execution_count": 28
        }
      ]
    },
    {
      "cell_type": "code",
      "metadata": {
        "colab": {
          "base_uri": "https://localhost:8080/"
        },
        "id": "mcKMDLg_UFrD",
        "outputId": "8c3d22c5-b611-43c7-db1d-596ed247d83a"
      },
      "source": [
        "# separate all the words/entities from sentence\n",
        "words = sentence.split()\n",
        "\n",
        "# randomly shuffle those words/entities\n",
        "np.random.shuffle(words)\n",
        "print(words)"
      ],
      "execution_count": 29,
      "outputs": [
        {
          "output_type": "stream",
          "text": [
            "['bear', 'little', 'the', 'in', 'fine', 'brook', 'fat', 'saw', 'The', 'trout', 'the']\n"
          ],
          "name": "stdout"
        }
      ]
    },
    {
      "cell_type": "markdown",
      "metadata": {
        "id": "Iha4pZInH5yF"
      },
      "source": [
        "# PoS (Parts of Speech) tagging"
      ]
    },
    {
      "cell_type": "markdown",
      "metadata": {
        "id": "VHKBWgVUKZbM"
      },
      "source": [
        "using NLTK"
      ]
    },
    {
      "cell_type": "code",
      "metadata": {
        "colab": {
          "base_uri": "https://localhost:8080/",
          "height": 111
        },
        "id": "zGsWxVprG5Yz",
        "outputId": "86682f51-bf5f-4a31-ad99-9322939278e5"
      },
      "source": [
        "pos_tags = nltk.pos_tag(sentence.split())\n",
        "pd.DataFrame(pos_tags).T"
      ],
      "execution_count": 30,
      "outputs": [
        {
          "output_type": "execute_result",
          "data": {
            "text/html": [
              "<div>\n",
              "<style scoped>\n",
              "    .dataframe tbody tr th:only-of-type {\n",
              "        vertical-align: middle;\n",
              "    }\n",
              "\n",
              "    .dataframe tbody tr th {\n",
              "        vertical-align: top;\n",
              "    }\n",
              "\n",
              "    .dataframe thead th {\n",
              "        text-align: right;\n",
              "    }\n",
              "</style>\n",
              "<table border=\"1\" class=\"dataframe\">\n",
              "  <thead>\n",
              "    <tr style=\"text-align: right;\">\n",
              "      <th></th>\n",
              "      <th>0</th>\n",
              "      <th>1</th>\n",
              "      <th>2</th>\n",
              "      <th>3</th>\n",
              "      <th>4</th>\n",
              "      <th>5</th>\n",
              "      <th>6</th>\n",
              "      <th>7</th>\n",
              "      <th>8</th>\n",
              "      <th>9</th>\n",
              "      <th>10</th>\n",
              "    </tr>\n",
              "  </thead>\n",
              "  <tbody>\n",
              "    <tr>\n",
              "      <th>0</th>\n",
              "      <td>The</td>\n",
              "      <td>little</td>\n",
              "      <td>bear</td>\n",
              "      <td>saw</td>\n",
              "      <td>the</td>\n",
              "      <td>fine</td>\n",
              "      <td>fat</td>\n",
              "      <td>trout</td>\n",
              "      <td>in</td>\n",
              "      <td>the</td>\n",
              "      <td>brook</td>\n",
              "    </tr>\n",
              "    <tr>\n",
              "      <th>1</th>\n",
              "      <td>DT</td>\n",
              "      <td>JJ</td>\n",
              "      <td>NN</td>\n",
              "      <td>VBD</td>\n",
              "      <td>DT</td>\n",
              "      <td>JJ</td>\n",
              "      <td>NN</td>\n",
              "      <td>NN</td>\n",
              "      <td>IN</td>\n",
              "      <td>DT</td>\n",
              "      <td>NN</td>\n",
              "    </tr>\n",
              "  </tbody>\n",
              "</table>\n",
              "</div>"
            ],
            "text/plain": [
              "    0       1     2    3    4     5    6      7   8    9      10\n",
              "0  The  little  bear  saw  the  fine  fat  trout  in  the  brook\n",
              "1   DT      JJ    NN  VBD   DT    JJ   NN     NN  IN   DT     NN"
            ]
          },
          "metadata": {
            "tags": []
          },
          "execution_count": 30
        }
      ]
    },
    {
      "cell_type": "markdown",
      "metadata": {
        "id": "sjBYxwP0KcV3"
      },
      "source": [
        "using Spacy"
      ]
    },
    {
      "cell_type": "code",
      "metadata": {
        "colab": {
          "base_uri": "https://localhost:8080/",
          "height": 142
        },
        "id": "OBz8oIxwH9yb",
        "outputId": "162644b7-e46a-4005-d254-ce7cb4926b30"
      },
      "source": [
        "spacy_pos_tagged = [(word, word.tag_, word.pos_) for word in nlp(sentence)]\n",
        "pd.DataFrame(spacy_pos_tagged).T"
      ],
      "execution_count": 31,
      "outputs": [
        {
          "output_type": "execute_result",
          "data": {
            "text/html": [
              "<div>\n",
              "<style scoped>\n",
              "    .dataframe tbody tr th:only-of-type {\n",
              "        vertical-align: middle;\n",
              "    }\n",
              "\n",
              "    .dataframe tbody tr th {\n",
              "        vertical-align: top;\n",
              "    }\n",
              "\n",
              "    .dataframe thead th {\n",
              "        text-align: right;\n",
              "    }\n",
              "</style>\n",
              "<table border=\"1\" class=\"dataframe\">\n",
              "  <thead>\n",
              "    <tr style=\"text-align: right;\">\n",
              "      <th></th>\n",
              "      <th>0</th>\n",
              "      <th>1</th>\n",
              "      <th>2</th>\n",
              "      <th>3</th>\n",
              "      <th>4</th>\n",
              "      <th>5</th>\n",
              "      <th>6</th>\n",
              "      <th>7</th>\n",
              "      <th>8</th>\n",
              "      <th>9</th>\n",
              "      <th>10</th>\n",
              "    </tr>\n",
              "  </thead>\n",
              "  <tbody>\n",
              "    <tr>\n",
              "      <th>0</th>\n",
              "      <td>The</td>\n",
              "      <td>little</td>\n",
              "      <td>bear</td>\n",
              "      <td>saw</td>\n",
              "      <td>the</td>\n",
              "      <td>fine</td>\n",
              "      <td>fat</td>\n",
              "      <td>trout</td>\n",
              "      <td>in</td>\n",
              "      <td>the</td>\n",
              "      <td>brook</td>\n",
              "    </tr>\n",
              "    <tr>\n",
              "      <th>1</th>\n",
              "      <td>DT</td>\n",
              "      <td>JJ</td>\n",
              "      <td>NN</td>\n",
              "      <td>VBD</td>\n",
              "      <td>DT</td>\n",
              "      <td>JJ</td>\n",
              "      <td>JJ</td>\n",
              "      <td>NN</td>\n",
              "      <td>IN</td>\n",
              "      <td>DT</td>\n",
              "      <td>NN</td>\n",
              "    </tr>\n",
              "    <tr>\n",
              "      <th>2</th>\n",
              "      <td>DET</td>\n",
              "      <td>ADJ</td>\n",
              "      <td>NOUN</td>\n",
              "      <td>VERB</td>\n",
              "      <td>DET</td>\n",
              "      <td>ADJ</td>\n",
              "      <td>ADJ</td>\n",
              "      <td>NOUN</td>\n",
              "      <td>ADP</td>\n",
              "      <td>DET</td>\n",
              "      <td>NOUN</td>\n",
              "    </tr>\n",
              "  </tbody>\n",
              "</table>\n",
              "</div>"
            ],
            "text/plain": [
              "    0       1     2     3    4     5    6      7    8    9      10\n",
              "0  The  little  bear   saw  the  fine  fat  trout   in  the  brook\n",
              "1   DT      JJ    NN   VBD   DT    JJ   JJ     NN   IN   DT     NN\n",
              "2  DET     ADJ  NOUN  VERB  DET   ADJ  ADJ   NOUN  ADP  DET   NOUN"
            ]
          },
          "metadata": {
            "tags": []
          },
          "execution_count": 31
        }
      ]
    },
    {
      "cell_type": "markdown",
      "metadata": {
        "id": "ym97Rp2PbI70"
      },
      "source": [
        "# Shallow Parsing"
      ]
    },
    {
      "cell_type": "code",
      "metadata": {
        "colab": {
          "base_uri": "https://localhost:8080/"
        },
        "id": "SeoZ0Y0tKe1U",
        "outputId": "0fb267eb-1dbf-49d3-e17b-2ab1ffbbe988"
      },
      "source": [
        "grammar = '''\n",
        "            NP: {<DT>?<JJ>?<NN.*>}  \n",
        "            ADJP: {<JJ>}\n",
        "            ADVP: {<RB.*>}\n",
        "            PP: {<IN>}      \n",
        "            VP: {<MD>?<VB.*>+}\n",
        "          '''\n",
        "\n",
        "pos_tagged_sent = nltk.pos_tag(sentence.split())\n",
        "regparse = nltk.RegexpParser(grammar)\n",
        "shallow_parsed_sent = regparse.parse(pos_tagged_sent)\n",
        "print(shallow_parsed_sent)"
      ],
      "execution_count": 32,
      "outputs": [
        {
          "output_type": "stream",
          "text": [
            "(S\n",
            "  (NP The/DT little/JJ bear/NN)\n",
            "  (VP saw/VBD)\n",
            "  (NP the/DT fine/JJ fat/NN)\n",
            "  (NP trout/NN)\n",
            "  (PP in/IN)\n",
            "  (NP the/DT brook/NN))\n"
          ],
          "name": "stdout"
        }
      ]
    },
    {
      "cell_type": "code",
      "metadata": {
        "id": "AqUP53OUQJL6",
        "colab": {
          "base_uri": "https://localhost:8080/"
        },
        "outputId": "96c1796e-0a58-41ac-ae45-1e89b0a25f99"
      },
      "source": [
        "# Following installations are required for tree visualization only if you are using Google Colab \n",
        "!apt-get install -y xvfb \n",
        "# Install X Virtual Frame Buffer\n",
        "import os\n",
        "os.system('Xvfb :1 -screen 0 1600x1200x16  &')    \n",
        "# create virtual display with size 1600x1200 and 16 bit color. Color can be changed to 24 or 8\n",
        "os.environ['DISPLAY']=':1.0'    \n",
        "# tell X clients to use our virtual DISPLAY :1.0"
      ],
      "execution_count": 33,
      "outputs": [
        {
          "output_type": "stream",
          "text": [
            "Reading package lists... Done\n",
            "Building dependency tree       \n",
            "Reading state information... Done\n",
            "xvfb is already the newest version (2:1.19.6-1ubuntu4.8).\n",
            "0 upgraded, 0 newly installed, 0 to remove and 31 not upgraded.\n"
          ],
          "name": "stdout"
        }
      ]
    },
    {
      "cell_type": "code",
      "metadata": {
        "id": "KRGQHjNRRFY-",
        "colab": {
          "base_uri": "https://localhost:8080/"
        },
        "outputId": "67dfba84-c8ea-47ac-85c1-95c1b49a2ae0"
      },
      "source": [
        "# Following installations are required for tree visualization only if you are using Google Colab \n",
        "%matplotlib inline\n",
        "### INSTALL GHOSTSCRIPT (Required to display NLTK trees) ###\n",
        "!apt install ghostscript python3-tk"
      ],
      "execution_count": 34,
      "outputs": [
        {
          "output_type": "stream",
          "text": [
            "Reading package lists... Done\n",
            "Building dependency tree       \n",
            "Reading state information... Done\n",
            "ghostscript is already the newest version (9.26~dfsg+0-0ubuntu0.18.04.14).\n",
            "python3-tk is already the newest version (3.6.9-1~18.04).\n",
            "0 upgraded, 0 newly installed, 0 to remove and 31 not upgraded.\n"
          ],
          "name": "stdout"
        }
      ]
    },
    {
      "cell_type": "markdown",
      "metadata": {
        "id": "rtnTpc7UdYWd"
      },
      "source": [
        "# Visualize Shallow Parsed Trees"
      ]
    },
    {
      "cell_type": "markdown",
      "metadata": {
        "id": "reqSAl1UdWc1"
      },
      "source": [
        "Using NLTK"
      ]
    },
    {
      "cell_type": "code",
      "metadata": {
        "colab": {
          "base_uri": "https://localhost:8080/",
          "height": 126
        },
        "id": "tK03GOHDLLI4",
        "outputId": "f7a6e166-bcd3-421e-f8b9-ccc31b96c4e2"
      },
      "source": [
        "# visualize shallow parse tree\n",
        "shallow_parsed_sent"
      ],
      "execution_count": 35,
      "outputs": [
        {
          "output_type": "execute_result",
          "data": {
            "image/png": "[encoded data removed]",
            "text/plain": [
              "Tree('S', [Tree('NP', [('The', 'DT'), ('little', 'JJ'), ('bear', 'NN')]), Tree('VP', [('saw', 'VBD')]), Tree('NP', [('the', 'DT'), ('fine', 'JJ'), ('fat', 'NN')]), Tree('NP', [('trout', 'NN')]), Tree('PP', [('in', 'IN')]), Tree('NP', [('the', 'DT'), ('brook', 'NN')])])"
            ]
          },
          "metadata": {
            "tags": []
          },
          "execution_count": 35
        }
      ]
    },
    {
      "cell_type": "markdown",
      "metadata": {
        "id": "TE2yTfHbddpc"
      },
      "source": [
        "Using SPaCy"
      ]
    },
    {
      "cell_type": "code",
      "metadata": {
        "colab": {
          "base_uri": "https://localhost:8080/",
          "height": 378
        },
        "id": "ie8ymes7OsZq",
        "outputId": "d9385fee-3cc9-44b3-893b-0be622d30b50"
      },
      "source": [
        "from spacy import displacy\n",
        "\n",
        "displacy.render(nlp(sentence), jupyter=True, \n",
        "                options={'distance': 100,\n",
        "                         'arrow_stroke': 1.5,\n",
        "                         'arrow_width': 8})"
      ],
      "execution_count": 36,
      "outputs": [
        {
          "output_type": "display_data",
          "data": {
            "text/html": [
              "<span class=\"tex2jax_ignore\"><svg xmlns=\"http://www.w3.org/2000/svg\" xmlns:xlink=\"http://www.w3.org/1999/xlink\" xml:lang=\"en\" id=\"20f05ca5ba8d4888ba381515d3967c1c-0\" class=\"displacy\" width=\"1150\" height=\"336.5\" direction=\"ltr\" style=\"max-width: none; height: 336.5px; color: #000000; background: #ffffff; font-family: Arial; direction: ltr\">\n",
              "<text class=\"displacy-token\" fill=\"currentColor\" text-anchor=\"middle\" y=\"246.5\">\n",
              "    <tspan class=\"displacy-word\" fill=\"currentColor\" x=\"50\">The</tspan>\n",
              "    <tspan class=\"displacy-tag\" dy=\"2em\" fill=\"currentColor\" x=\"50\">DET</tspan>\n",
              "</text>\n",
              "\n",
              "<text class=\"displacy-token\" fill=\"currentColor\" text-anchor=\"middle\" y=\"246.5\">\n",
              "    <tspan class=\"displacy-word\" fill=\"currentColor\" x=\"150\">little</tspan>\n",
              "    <tspan class=\"displacy-tag\" dy=\"2em\" fill=\"currentColor\" x=\"150\">ADJ</tspan>\n",
              "</text>\n",
              "\n",
              "<text class=\"displacy-token\" fill=\"currentColor\" text-anchor=\"middle\" y=\"246.5\">\n",
              "    <tspan class=\"displacy-word\" fill=\"currentColor\" x=\"250\">bear</tspan>\n",
              "    <tspan class=\"displacy-tag\" dy=\"2em\" fill=\"currentColor\" x=\"250\">NOUN</tspan>\n",
              "</text>\n",
              "\n",
              "<text class=\"displacy-token\" fill=\"currentColor\" text-anchor=\"middle\" y=\"246.5\">\n",
              "    <tspan class=\"displacy-word\" fill=\"currentColor\" x=\"350\">saw</tspan>\n",
              "    <tspan class=\"displacy-tag\" dy=\"2em\" fill=\"currentColor\" x=\"350\">VERB</tspan>\n",
              "</text>\n",
              "\n",
              "<text class=\"displacy-token\" fill=\"currentColor\" text-anchor=\"middle\" y=\"246.5\">\n",
              "    <tspan class=\"displacy-word\" fill=\"currentColor\" x=\"450\">the</tspan>\n",
              "    <tspan class=\"displacy-tag\" dy=\"2em\" fill=\"currentColor\" x=\"450\">DET</tspan>\n",
              "</text>\n",
              "\n",
              "<text class=\"displacy-token\" fill=\"currentColor\" text-anchor=\"middle\" y=\"246.5\">\n",
              "    <tspan class=\"displacy-word\" fill=\"currentColor\" x=\"550\">fine</tspan>\n",
              "    <tspan class=\"displacy-tag\" dy=\"2em\" fill=\"currentColor\" x=\"550\">ADJ</tspan>\n",
              "</text>\n",
              "\n",
              "<text class=\"displacy-token\" fill=\"currentColor\" text-anchor=\"middle\" y=\"246.5\">\n",
              "    <tspan class=\"displacy-word\" fill=\"currentColor\" x=\"650\">fat</tspan>\n",
              "    <tspan class=\"displacy-tag\" dy=\"2em\" fill=\"currentColor\" x=\"650\">ADJ</tspan>\n",
              "</text>\n",
              "\n",
              "<text class=\"displacy-token\" fill=\"currentColor\" text-anchor=\"middle\" y=\"246.5\">\n",
              "    <tspan class=\"displacy-word\" fill=\"currentColor\" x=\"750\">trout</tspan>\n",
              "    <tspan class=\"displacy-tag\" dy=\"2em\" fill=\"currentColor\" x=\"750\">NOUN</tspan>\n",
              "</text>\n",
              "\n",
              "<text class=\"displacy-token\" fill=\"currentColor\" text-anchor=\"middle\" y=\"246.5\">\n",
              "    <tspan class=\"displacy-word\" fill=\"currentColor\" x=\"850\">in</tspan>\n",
              "    <tspan class=\"displacy-tag\" dy=\"2em\" fill=\"currentColor\" x=\"850\">ADP</tspan>\n",
              "</text>\n",
              "\n",
              "<text class=\"displacy-token\" fill=\"currentColor\" text-anchor=\"middle\" y=\"246.5\">\n",
              "    <tspan class=\"displacy-word\" fill=\"currentColor\" x=\"950\">the</tspan>\n",
              "    <tspan class=\"displacy-tag\" dy=\"2em\" fill=\"currentColor\" x=\"950\">DET</tspan>\n",
              "</text>\n",
              "\n",
              "<text class=\"displacy-token\" fill=\"currentColor\" text-anchor=\"middle\" y=\"246.5\">\n",
              "    <tspan class=\"displacy-word\" fill=\"currentColor\" x=\"1050\">brook</tspan>\n",
              "    <tspan class=\"displacy-tag\" dy=\"2em\" fill=\"currentColor\" x=\"1050\">NOUN</tspan>\n",
              "</text>\n",
              "\n",
              "<g class=\"displacy-arrow\">\n",
              "    <path class=\"displacy-arc\" id=\"arrow-20f05ca5ba8d4888ba381515d3967c1c-0-0\" stroke-width=\"1.5px\" d=\"M70,201.5 C70,101.5 240.0,101.5 240.0,201.5\" fill=\"none\" stroke=\"currentColor\"/>\n",
              "    <text dy=\"1.25em\" style=\"font-size: 0.8em; letter-spacing: 1px\">\n",
              "        <textPath xlink:href=\"#arrow-20f05ca5ba8d4888ba381515d3967c1c-0-0\" class=\"displacy-label\" startOffset=\"50%\" side=\"left\" fill=\"currentColor\" text-anchor=\"middle\">det</textPath>\n",
              "    </text>\n",
              "    <path class=\"displacy-arrowhead\" d=\"M70,203.5 L64,193.5 76,193.5\" fill=\"currentColor\"/>\n",
              "</g>\n",
              "\n",
              "<g class=\"displacy-arrow\">\n",
              "    <path class=\"displacy-arc\" id=\"arrow-20f05ca5ba8d4888ba381515d3967c1c-0-1\" stroke-width=\"1.5px\" d=\"M170,201.5 C170,151.5 235.0,151.5 235.0,201.5\" fill=\"none\" stroke=\"currentColor\"/>\n",
              "    <text dy=\"1.25em\" style=\"font-size: 0.8em; letter-spacing: 1px\">\n",
              "        <textPath xlink:href=\"#arrow-20f05ca5ba8d4888ba381515d3967c1c-0-1\" class=\"displacy-label\" startOffset=\"50%\" side=\"left\" fill=\"currentColor\" text-anchor=\"middle\">amod</textPath>\n",
              "    </text>\n",
              "    <path class=\"displacy-arrowhead\" d=\"M170,203.5 L164,193.5 176,193.5\" fill=\"currentColor\"/>\n",
              "</g>\n",
              "\n",
              "<g class=\"displacy-arrow\">\n",
              "    <path class=\"displacy-arc\" id=\"arrow-20f05ca5ba8d4888ba381515d3967c1c-0-2\" stroke-width=\"1.5px\" d=\"M270,201.5 C270,151.5 335.0,151.5 335.0,201.5\" fill=\"none\" stroke=\"currentColor\"/>\n",
              "    <text dy=\"1.25em\" style=\"font-size: 0.8em; letter-spacing: 1px\">\n",
              "        <textPath xlink:href=\"#arrow-20f05ca5ba8d4888ba381515d3967c1c-0-2\" class=\"displacy-label\" startOffset=\"50%\" side=\"left\" fill=\"currentColor\" text-anchor=\"middle\">nsubj</textPath>\n",
              "    </text>\n",
              "    <path class=\"displacy-arrowhead\" d=\"M270,203.5 L264,193.5 276,193.5\" fill=\"currentColor\"/>\n",
              "</g>\n",
              "\n",
              "<g class=\"displacy-arrow\">\n",
              "    <path class=\"displacy-arc\" id=\"arrow-20f05ca5ba8d4888ba381515d3967c1c-0-3\" stroke-width=\"1.5px\" d=\"M470,201.5 C470,51.5 745.0,51.5 745.0,201.5\" fill=\"none\" stroke=\"currentColor\"/>\n",
              "    <text dy=\"1.25em\" style=\"font-size: 0.8em; letter-spacing: 1px\">\n",
              "        <textPath xlink:href=\"#arrow-20f05ca5ba8d4888ba381515d3967c1c-0-3\" class=\"displacy-label\" startOffset=\"50%\" side=\"left\" fill=\"currentColor\" text-anchor=\"middle\">det</textPath>\n",
              "    </text>\n",
              "    <path class=\"displacy-arrowhead\" d=\"M470,203.5 L464,193.5 476,193.5\" fill=\"currentColor\"/>\n",
              "</g>\n",
              "\n",
              "<g class=\"displacy-arrow\">\n",
              "    <path class=\"displacy-arc\" id=\"arrow-20f05ca5ba8d4888ba381515d3967c1c-0-4\" stroke-width=\"1.5px\" d=\"M570,201.5 C570,101.5 740.0,101.5 740.0,201.5\" fill=\"none\" stroke=\"currentColor\"/>\n",
              "    <text dy=\"1.25em\" style=\"font-size: 0.8em; letter-spacing: 1px\">\n",
              "        <textPath xlink:href=\"#arrow-20f05ca5ba8d4888ba381515d3967c1c-0-4\" class=\"displacy-label\" startOffset=\"50%\" side=\"left\" fill=\"currentColor\" text-anchor=\"middle\">amod</textPath>\n",
              "    </text>\n",
              "    <path class=\"displacy-arrowhead\" d=\"M570,203.5 L564,193.5 576,193.5\" fill=\"currentColor\"/>\n",
              "</g>\n",
              "\n",
              "<g class=\"displacy-arrow\">\n",
              "    <path class=\"displacy-arc\" id=\"arrow-20f05ca5ba8d4888ba381515d3967c1c-0-5\" stroke-width=\"1.5px\" d=\"M670,201.5 C670,151.5 735.0,151.5 735.0,201.5\" fill=\"none\" stroke=\"currentColor\"/>\n",
              "    <text dy=\"1.25em\" style=\"font-size: 0.8em; letter-spacing: 1px\">\n",
              "        <textPath xlink:href=\"#arrow-20f05ca5ba8d4888ba381515d3967c1c-0-5\" class=\"displacy-label\" startOffset=\"50%\" side=\"left\" fill=\"currentColor\" text-anchor=\"middle\">amod</textPath>\n",
              "    </text>\n",
              "    <path class=\"displacy-arrowhead\" d=\"M670,203.5 L664,193.5 676,193.5\" fill=\"currentColor\"/>\n",
              "</g>\n",
              "\n",
              "<g class=\"displacy-arrow\">\n",
              "    <path class=\"displacy-arc\" id=\"arrow-20f05ca5ba8d4888ba381515d3967c1c-0-6\" stroke-width=\"1.5px\" d=\"M370,201.5 C370,1.5 750.0,1.5 750.0,201.5\" fill=\"none\" stroke=\"currentColor\"/>\n",
              "    <text dy=\"1.25em\" style=\"font-size: 0.8em; letter-spacing: 1px\">\n",
              "        <textPath xlink:href=\"#arrow-20f05ca5ba8d4888ba381515d3967c1c-0-6\" class=\"displacy-label\" startOffset=\"50%\" side=\"left\" fill=\"currentColor\" text-anchor=\"middle\">dobj</textPath>\n",
              "    </text>\n",
              "    <path class=\"displacy-arrowhead\" d=\"M750.0,203.5 L756.0,193.5 744.0,193.5\" fill=\"currentColor\"/>\n",
              "</g>\n",
              "\n",
              "<g class=\"displacy-arrow\">\n",
              "    <path class=\"displacy-arc\" id=\"arrow-20f05ca5ba8d4888ba381515d3967c1c-0-7\" stroke-width=\"1.5px\" d=\"M770,201.5 C770,151.5 835.0,151.5 835.0,201.5\" fill=\"none\" stroke=\"currentColor\"/>\n",
              "    <text dy=\"1.25em\" style=\"font-size: 0.8em; letter-spacing: 1px\">\n",
              "        <textPath xlink:href=\"#arrow-20f05ca5ba8d4888ba381515d3967c1c-0-7\" class=\"displacy-label\" startOffset=\"50%\" side=\"left\" fill=\"currentColor\" text-anchor=\"middle\">prep</textPath>\n",
              "    </text>\n",
              "    <path class=\"displacy-arrowhead\" d=\"M835.0,203.5 L841.0,193.5 829.0,193.5\" fill=\"currentColor\"/>\n",
              "</g>\n",
              "\n",
              "<g class=\"displacy-arrow\">\n",
              "    <path class=\"displacy-arc\" id=\"arrow-20f05ca5ba8d4888ba381515d3967c1c-0-8\" stroke-width=\"1.5px\" d=\"M970,201.5 C970,151.5 1035.0,151.5 1035.0,201.5\" fill=\"none\" stroke=\"currentColor\"/>\n",
              "    <text dy=\"1.25em\" style=\"font-size: 0.8em; letter-spacing: 1px\">\n",
              "        <textPath xlink:href=\"#arrow-20f05ca5ba8d4888ba381515d3967c1c-0-8\" class=\"displacy-label\" startOffset=\"50%\" side=\"left\" fill=\"currentColor\" text-anchor=\"middle\">det</textPath>\n",
              "    </text>\n",
              "    <path class=\"displacy-arrowhead\" d=\"M970,203.5 L964,193.5 976,193.5\" fill=\"currentColor\"/>\n",
              "</g>\n",
              "\n",
              "<g class=\"displacy-arrow\">\n",
              "    <path class=\"displacy-arc\" id=\"arrow-20f05ca5ba8d4888ba381515d3967c1c-0-9\" stroke-width=\"1.5px\" d=\"M870,201.5 C870,101.5 1040.0,101.5 1040.0,201.5\" fill=\"none\" stroke=\"currentColor\"/>\n",
              "    <text dy=\"1.25em\" style=\"font-size: 0.8em; letter-spacing: 1px\">\n",
              "        <textPath xlink:href=\"#arrow-20f05ca5ba8d4888ba381515d3967c1c-0-9\" class=\"displacy-label\" startOffset=\"50%\" side=\"left\" fill=\"currentColor\" text-anchor=\"middle\">pobj</textPath>\n",
              "    </text>\n",
              "    <path class=\"displacy-arrowhead\" d=\"M1040.0,203.5 L1046.0,193.5 1034.0,193.5\" fill=\"currentColor\"/>\n",
              "</g>\n",
              "</svg></span>"
            ],
            "text/plain": [
              "<IPython.core.display.HTML object>"
            ]
          },
          "metadata": {
            "tags": []
          }
        }
      ]
    },
    {
      "cell_type": "markdown",
      "metadata": {
        "id": "LOnCoo02i4aQ"
      },
      "source": [
        "# Illustration"
      ]
    },
    {
      "cell_type": "markdown",
      "metadata": {
        "id": "o3FzlolltV7E"
      },
      "source": [
        "## Brown Corpus"
      ]
    },
    {
      "cell_type": "code",
      "metadata": {
        "colab": {
          "base_uri": "https://localhost:8080/"
        },
        "id": "tvXjU8UVja-M",
        "outputId": "969037fa-b8f1-4c9e-d77b-72a2c4681592"
      },
      "source": [
        "# download and load the Brown Corpus\n",
        "nltk.download('brown')\n",
        "from nltk.corpus import brown"
      ],
      "execution_count": 37,
      "outputs": [
        {
          "output_type": "stream",
          "text": [
            "[nltk_data] Downloading package brown to /root/nltk_data...\n",
            "[nltk_data]   Package brown is already up-to-date!\n"
          ],
          "name": "stdout"
        }
      ]
    },
    {
      "cell_type": "code",
      "metadata": {
        "colab": {
          "base_uri": "https://localhost:8080/"
        },
        "id": "lyCZ7vYcjbrq",
        "outputId": "59f94fb9-4370-41e4-f542-6814f21ddbeb"
      },
      "source": [
        "# total categories\n",
        "print('Total Categories:', len(brown.categories()))"
      ],
      "execution_count": 38,
      "outputs": [
        {
          "output_type": "stream",
          "text": [
            "Total Categories: 15\n"
          ],
          "name": "stdout"
        }
      ]
    },
    {
      "cell_type": "code",
      "metadata": {
        "colab": {
          "base_uri": "https://localhost:8080/"
        },
        "id": "Gwwu06V7jj0K",
        "outputId": "d3a314f1-9822-4f6b-8b72-c1ea32ec9756"
      },
      "source": [
        "# print the categories\n",
        "print(brown.categories()[:8])\n",
        "print(brown.categories()[8:])"
      ],
      "execution_count": 39,
      "outputs": [
        {
          "output_type": "stream",
          "text": [
            "['adventure', 'belles_lettres', 'editorial', 'fiction', 'government', 'hobbies', 'humor', 'learned']\n",
            "['lore', 'mystery', 'news', 'religion', 'reviews', 'romance', 'science_fiction']\n"
          ],
          "name": "stdout"
        }
      ]
    },
    {
      "cell_type": "code",
      "metadata": {
        "colab": {
          "base_uri": "https://localhost:8080/"
        },
        "id": "T-uhKdSzngcW",
        "outputId": "961edecc-bb35-499a-9bd6-19336009f3f1"
      },
      "source": [
        "# get sentences in natural form\n",
        "sentences = brown.sents(categories='adventure')\n",
        "sentences = [' '.join(sentence_token) for sentence_token in sentences]\n",
        "sentences[0:5] # viewing the first 5 sentences"
      ],
      "execution_count": 40,
      "outputs": [
        {
          "output_type": "execute_result",
          "data": {
            "text/plain": [
              "['Dan Morgan told himself he would forget Ann Turner .',\n",
              " 'He was well rid of her .',\n",
              " \"He certainly didn't want a wife who was fickle as Ann .\",\n",
              " \"If he had married her , he'd have been asking for trouble .\",\n",
              " 'But all of this was rationalization .']"
            ]
          },
          "metadata": {
            "tags": []
          },
          "execution_count": 40
        }
      ]
    },
    {
      "cell_type": "code",
      "metadata": {
        "colab": {
          "base_uri": "https://localhost:8080/"
        },
        "id": "_kSma4V-llxh",
        "outputId": "2e18753c-0386-430e-d79d-2be83c6e4de8"
      },
      "source": [
        "# tokenized sentences\n",
        "brown.sents(categories='adventure')"
      ],
      "execution_count": 41,
      "outputs": [
        {
          "output_type": "execute_result",
          "data": {
            "text/plain": [
              "[['Dan', 'Morgan', 'told', 'himself', 'he', 'would', 'forget', 'Ann', 'Turner', '.'], ['He', 'was', 'well', 'rid', 'of', 'her', '.'], ...]"
            ]
          },
          "metadata": {
            "tags": []
          },
          "execution_count": 41
        }
      ]
    },
    {
      "cell_type": "code",
      "metadata": {
        "colab": {
          "base_uri": "https://localhost:8080/"
        },
        "id": "Kq-Xh5I4mG9Q",
        "outputId": "6c370e82-36a9-48df-e1a7-1babe5cf39c8"
      },
      "source": [
        "# POS tagged sentences\n",
        "brown.tagged_sents(categories='adventure')"
      ],
      "execution_count": 42,
      "outputs": [
        {
          "output_type": "execute_result",
          "data": {
            "text/plain": [
              "[[('Dan', 'NP'), ('Morgan', 'NP'), ('told', 'VBD'), ('himself', 'PPL'), ('he', 'PPS'), ('would', 'MD'), ('forget', 'VB'), ('Ann', 'NP'), ('Turner', 'NP'), ('.', '.')], [('He', 'PPS'), ('was', 'BEDZ'), ('well', 'RB'), ('rid', 'JJ'), ('of', 'IN'), ('her', 'PPO'), ('.', '.')], ...]"
            ]
          },
          "metadata": {
            "tags": []
          },
          "execution_count": 42
        }
      ]
    },
    {
      "cell_type": "code",
      "metadata": {
        "colab": {
          "base_uri": "https://localhost:8080/"
        },
        "id": "0UWxpWQAnkoN",
        "outputId": "eed5d0a1-591f-4eea-c3f7-44682bf02d41"
      },
      "source": [
        "# get tagged words\n",
        "tagged_words = brown.tagged_words(categories='adventure')\n",
        "print(tagged_words)"
      ],
      "execution_count": 43,
      "outputs": [
        {
          "output_type": "stream",
          "text": [
            "[('Dan', 'NP'), ('Morgan', 'NP'), ('told', 'VBD'), ...]\n"
          ],
          "name": "stdout"
        }
      ]
    },
    {
      "cell_type": "code",
      "metadata": {
        "colab": {
          "base_uri": "https://localhost:8080/"
        },
        "id": "FEsi1qeBsHEN",
        "outputId": "f9a38b1f-386b-448e-dade-edf922eda376"
      },
      "source": [
        "# get nouns from tagged words\n",
        "nouns = [(word, tag) for word, tag in tagged_words if any(noun_tag in tag for noun_tag in ['NP', 'NN'])]\n",
        "\n",
        "nouns[0:10] # view the first 10 nouns"
      ],
      "execution_count": 44,
      "outputs": [
        {
          "output_type": "execute_result",
          "data": {
            "text/plain": [
              "[('Dan', 'NP'),\n",
              " ('Morgan', 'NP'),\n",
              " ('Ann', 'NP'),\n",
              " ('Turner', 'NP'),\n",
              " ('wife', 'NN'),\n",
              " ('Ann', 'NP'),\n",
              " ('trouble', 'NN'),\n",
              " ('rationalization', 'NN'),\n",
              " ('middle', 'NN'),\n",
              " ('night', 'NN')]"
            ]
          },
          "metadata": {
            "tags": []
          },
          "execution_count": 44
        }
      ]
    },
    {
      "cell_type": "code",
      "metadata": {
        "colab": {
          "base_uri": "https://localhost:8080/"
        },
        "id": "Ak1asp3FsNhn",
        "outputId": "a2caef6f-b608-4244-c17a-b96038d0e711"
      },
      "source": [
        "# build frequency distribution for nouns\n",
        "nouns_freq = nltk.FreqDist([word for word, tag in nouns])\n",
        "\n",
        "# view top 10 occuring nouns\n",
        "nouns_freq.most_common(10)"
      ],
      "execution_count": 45,
      "outputs": [
        {
          "output_type": "execute_result",
          "data": {
            "text/plain": [
              "[('man', 165),\n",
              " ('time', 127),\n",
              " ('eyes', 90),\n",
              " ('men', 81),\n",
              " ('face', 72),\n",
              " ('head', 68),\n",
              " ('door', 67),\n",
              " ('hand', 64),\n",
              " ('way', 62),\n",
              " ('house', 60)]"
            ]
          },
          "metadata": {
            "tags": []
          },
          "execution_count": 45
        }
      ]
    },
    {
      "cell_type": "markdown",
      "metadata": {
        "id": "UgJNJpKl0IRx"
      },
      "source": [
        "**Done!!!**"
      ]
    }
  ]
}